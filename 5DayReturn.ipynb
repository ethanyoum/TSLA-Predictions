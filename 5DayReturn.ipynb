{
  "nbformat": 4,
  "nbformat_minor": 0,
  "metadata": {
    "colab": {
      "provenance": [],
      "gpuType": "T4",
      "machine_shape": "hm",
      "include_colab_link": true
    },
    "kernelspec": {
      "name": "python3",
      "display_name": "Python 3"
    },
    "language_info": {
      "name": "python"
    },
    "accelerator": "GPU"
  },
  "cells": [
    {
      "cell_type": "markdown",
      "metadata": {
        "id": "view-in-github",
        "colab_type": "text"
      },
      "source": [
        "<a href=\"https://colab.research.google.com/github/ethanyoum/Tesla-Predictions/blob/main/5DayReturn.ipynb\" target=\"_parent\"><img src=\"https://colab.research.google.com/assets/colab-badge.svg\" alt=\"Open In Colab\"/></a>"
      ]
    },
    {
      "cell_type": "code",
      "execution_count": 2,
      "metadata": {
        "id": "oIeCJvNjwU7Y"
      },
      "outputs": [],
      "source": [
        "# Import necessary libraries\n",
        "import time\n",
        "import yfinance as yf\n",
        "import pandas as pd\n",
        "import numpy as np\n",
        "import sklearn\n",
        "from sklearn.model_selection import train_test_split\n",
        "from sklearn.preprocessing import StandardScaler\n",
        "from sklearn.metrics import mean_squared_error\n",
        "import torch\n",
        "import torch.nn as nn\n",
        "import torch.optim as optim\n",
        "import seaborn as sns\n",
        "import matplotlib.pyplot as plt"
      ]
    },
    {
      "cell_type": "markdown",
      "source": [
        "# Feature Engineering & Pruning"
      ],
      "metadata": {
        "id": "001WCnWiznJ5"
      }
    },
    {
      "cell_type": "code",
      "source": [
        "from sklearn.preprocessing import MinMaxScaler\n",
        "from datetime import datetime\n",
        "\n",
        "# Download TSLA + external indicators\n",
        "start_date = '2015-12-14'\n",
        "end_date = '2025-04-30'\n",
        "data = yf.download('TSLA', start = start_date, end = end_date)\n",
        "\n",
        "# Create target: next-day return of TSLA\n",
        "data['TSLA_5d_return'] = data['Close'].pct_change(periods = 5).shift(-5)\n",
        "\n",
        "# Macro/external indicators\n",
        "macro_tickers = ['SPY', 'USO', '^VIX', '^TNX', 'QQQ']\n",
        "macro_raw = yf.download(macro_tickers, start=start_date, end=end_date)\n",
        "\n",
        "# Flatten Close prices only and fix column names\n",
        "macro_data = macro_raw['Close'].copy()\n",
        "macro_data.columns = [col.replace('^', '') for col in macro_data.columns]\n",
        "macro_data = macro_data.rename(columns={'TNX': 'US10Y'})\n",
        "\n",
        "# Both idx to be aligned\n",
        "macro_data.index = macro_data.index.tz_localize(None)\n",
        "data.index = data.index.tz_localize(None)\n",
        "\n",
        "# Flatten data columns\n",
        "data.columns = ['_'.join(col).strip() if isinstance(col, tuple) else col for col in data.columns]\n",
        "\n",
        "# Optional: rename for clarity\n",
        "data = data.rename(columns={\n",
        "    'Open': 'TSLA_Open',\n",
        "    'High': 'TSLA_High',\n",
        "    'Low': 'TSLA_Low',\n",
        "    'Close': 'TSLA_Close',\n",
        "    'Adj Close': 'TSLA_AdjClose',\n",
        "    'Volume': 'TSLA_Volume'\n",
        "})\n",
        "\n",
        "# Join all of them\n",
        "data = data.join(macro_data)\n",
        "\n",
        "# Drop the last row since it has NaN in the target\n",
        "data.dropna(inplace=True)"
      ],
      "metadata": {
        "colab": {
          "base_uri": "https://localhost:8080/"
        },
        "id": "A0ha27QqDT09",
        "outputId": "8a0c3171-d75a-4bbd-c287-92e98f03eac7"
      },
      "execution_count": 2,
      "outputs": [
        {
          "output_type": "stream",
          "name": "stderr",
          "text": [
            "\r[*********************100%***********************]  1 of 1 completed"
          ]
        },
        {
          "output_type": "stream",
          "name": "stdout",
          "text": [
            "YF.download() has changed argument auto_adjust default to True\n"
          ]
        },
        {
          "output_type": "stream",
          "name": "stderr",
          "text": [
            "\n",
            "[*********************100%***********************]  5 of 5 completed\n"
          ]
        }
      ]
    },
    {
      "cell_type": "code",
      "source": [
        "pip install ta"
      ],
      "metadata": {
        "colab": {
          "base_uri": "https://localhost:8080/"
        },
        "id": "nvQgoKUhJa1f",
        "outputId": "14a3a1b6-d0eb-49f4-a067-8ef55d5af834"
      },
      "execution_count": 3,
      "outputs": [
        {
          "output_type": "stream",
          "name": "stdout",
          "text": [
            "Collecting ta\n",
            "  Downloading ta-0.11.0.tar.gz (25 kB)\n",
            "  Preparing metadata (setup.py) ... \u001b[?25l\u001b[?25hdone\n",
            "Requirement already satisfied: numpy in /usr/local/lib/python3.11/dist-packages (from ta) (2.0.2)\n",
            "Requirement already satisfied: pandas in /usr/local/lib/python3.11/dist-packages (from ta) (2.2.2)\n",
            "Requirement already satisfied: python-dateutil>=2.8.2 in /usr/local/lib/python3.11/dist-packages (from pandas->ta) (2.9.0.post0)\n",
            "Requirement already satisfied: pytz>=2020.1 in /usr/local/lib/python3.11/dist-packages (from pandas->ta) (2025.2)\n",
            "Requirement already satisfied: tzdata>=2022.7 in /usr/local/lib/python3.11/dist-packages (from pandas->ta) (2025.2)\n",
            "Requirement already satisfied: six>=1.5 in /usr/local/lib/python3.11/dist-packages (from python-dateutil>=2.8.2->pandas->ta) (1.17.0)\n",
            "Building wheels for collected packages: ta\n",
            "  Building wheel for ta (setup.py) ... \u001b[?25l\u001b[?25hdone\n",
            "  Created wheel for ta: filename=ta-0.11.0-py3-none-any.whl size=29412 sha256=feef87c90d069f878d4ead1afbfeeb3d3c42dfe050c1468754eae62b1b922d86\n",
            "  Stored in directory: /root/.cache/pip/wheels/a1/d7/29/7781cc5eb9a3659d032d7d15bdd0f49d07d2b24fec29f44bc4\n",
            "Successfully built ta\n",
            "Installing collected packages: ta\n",
            "Successfully installed ta-0.11.0\n"
          ]
        }
      ]
    },
    {
      "cell_type": "code",
      "source": [
        "from ta.momentum import RSIIndicator\n",
        "from ta.momentum import StochasticOscillator\n",
        "from ta.trend import MACD\n",
        "from ta.volatility import BollingerBands\n",
        "from ta.momentum import ROCIndicator\n",
        "\n",
        "lookahead = 5\n",
        "\n",
        "# Add technical indicators\n",
        "data['RSI'] = RSIIndicator(data['Close_TSLA'], window = 14).rsi().shift(lookahead)\n",
        "data['MACD'] = MACD(data['Close_TSLA']).macd().shift(lookahead)\n",
        "Bollinger_Bands = BollingerBands(data['Close_TSLA'])\n",
        "data['BB_high'] = Bollinger_Bands.bollinger_hband().shift(lookahead)\n",
        "data['BB_low'] = Bollinger_Bands.bollinger_lband().shift(lookahead)"
      ],
      "metadata": {
        "id": "twKw36DbhR1N"
      },
      "execution_count": 3,
      "outputs": []
    },
    {
      "cell_type": "code",
      "source": [
        "# Volume (normalized) & Earnings Date\n",
        "data['Volume_norm'] = ((data['Volume_TSLA'] - data['Volume_TSLA'].rolling(20).mean()) / data['Volume_TSLA'].rolling(20).std()\n",
        ").shift(lookahead)\n",
        "\n",
        "earnings_dates = [\n",
        "    '2016-02-10', '2016-05-04', '2016-08-03', '2016-10-26',\n",
        "    '2017-02-22', '2017-05-03', '2017-08-02', '2017-11-01',\n",
        "    '2018-02-07', '2018-05-02', '2018-08-01', '2018-10-24',\n",
        "    '2019-01-30', '2019-04-24', '2019-07-24', '2019-10-23',\n",
        "    '2020-01-29', '2020-04-29', '2020-07-22', '2020-10-21',\n",
        "    '2021-01-27', '2021-04-26', '2021-07-26', '2021-10-20',\n",
        "    '2022-01-26', '2022-04-20', '2022-07-20', '2022-10-19',\n",
        "    '2023-01-25', '2023-04-19', '2023-07-19', '2023-10-18',\n",
        "    '2024-01-24', '2024-04-23', '2024-07-23', '2024-10-23',\n",
        "    '2025-01-29']\n",
        "\n",
        "data['Earnings'] = data.index.isin(pd.to_datetime(earnings_dates)).astype(int)"
      ],
      "metadata": {
        "id": "1siyxIYPh4WQ"
      },
      "execution_count": 4,
      "outputs": []
    },
    {
      "cell_type": "code",
      "source": [
        "# Seasonality\n",
        "data['Day_of_Week'] = data.index.dayofweek\n",
        "data['Month'] = data.index.month\n",
        "data['Quarter'] = data.index.quarter"
      ],
      "metadata": {
        "id": "_AACq6q9nYmY"
      },
      "execution_count": 5,
      "outputs": []
    },
    {
      "cell_type": "code",
      "source": [
        "# Momentum indicators\n",
        "data['ROC'] = ROCIndicator(data['Close_TSLA']).roc()\n",
        "stoch = StochasticOscillator(data['High_TSLA'], data['Low_TSLA'], data['Close_TSLA'])\n",
        "\n",
        "# Stoch_K (%K) = Raw Stochastic Oscillator value, Stoch_D (%D) = Moving average of %K\n",
        "data['Stoch_K'] = stoch.stoch().shift(lookahead)\n",
        "data['Stoch_D'] = stoch.stoch_signal().shift(lookahead)"
      ],
      "metadata": {
        "id": "htNFE3dqnwUG"
      },
      "execution_count": 6,
      "outputs": []
    },
    {
      "cell_type": "code",
      "source": [
        "# Regime Indicators\n",
        "data['rolling_vol'] = data['Close_TSLA'].rolling(window = 20).std().shift(lookahead)\n",
        "data['rolling_mean'] = data['Close_TSLA'].rolling(window = 20).mean().shift(lookahead)"
      ],
      "metadata": {
        "id": "DvTZQ4X6c9Tx"
      },
      "execution_count": 7,
      "outputs": []
    },
    {
      "cell_type": "code",
      "source": [
        "# Lagged Returns\n",
        "data['lag_1'] = data['Close_TSLA'].pct_change(1).shift(1)\n",
        "data['lag_2'] = data['Close_TSLA'].pct_change(1).shift(2)\n",
        "data['lag_3'] = data['Close_TSLA'].pct_change(1).shift(3)"
      ],
      "metadata": {
        "id": "w4WVKkf5dJh3"
      },
      "execution_count": 8,
      "outputs": []
    },
    {
      "cell_type": "code",
      "source": [
        "## Feature Pruning\n",
        "# Drop less useful or problematic columns\n",
        "drop_cols = ['Open_TSLA', 'Volume_TSLA','High_TSLA', 'Low_TSLA', 'rolling_mean',\n",
        "    'BB_high', 'BB_low', 'lag_2', 'lag_3', 'Day_of_Week', 'Month', 'Quarter']\n",
        "data.drop(columns = [col for col in drop_cols if col in data.columns], inplace = True)\n",
        "data.dropna(inplace = True)"
      ],
      "metadata": {
        "id": "ZtMYhZ31WF5z"
      },
      "execution_count": 9,
      "outputs": []
    },
    {
      "cell_type": "code",
      "source": [
        "# Finalize dataframe\n",
        "data = data.rename(columns = {'TSLA_5d_return_': 'TSLA_5d_return'})\n",
        "features = data.drop(columns = ['TSLA_5d_return'])\n",
        "#target = data[['TSLA_5d_return']]\n",
        "\n",
        "# Scale features\n",
        "from sklearn.preprocessing import RobustScaler\n",
        "scaler = RobustScaler()\n",
        "features_scaled = pd.DataFrame(scaler.fit_transform(features), columns=features.columns, index=features.index)\n",
        "\n",
        "#target_scaler = RobustScaler()\n",
        "#target_scaled = target_scaler.fit_transform(target)\n",
        "#data['TSLA_5d_return_scaled'] = target_scaled"
      ],
      "metadata": {
        "id": "D24U-1lsk-C7"
      },
      "execution_count": 10,
      "outputs": []
    },
    {
      "cell_type": "code",
      "source": [
        "data['direction'] = (data['TSLA_5d_return'] > 0).astype(int)\n",
        "target = data['direction'].values.astype(np.float32)"
      ],
      "metadata": {
        "id": "00PuDqWb-xdY"
      },
      "execution_count": 11,
      "outputs": []
    },
    {
      "cell_type": "code",
      "source": [
        "features.head(10)"
      ],
      "metadata": {
        "colab": {
          "base_uri": "https://localhost:8080/",
          "height": 588
        },
        "id": "4FAwLrp6vnD0",
        "outputId": "72a82e5a-0c8b-4e70-894c-56a69a5806af"
      },
      "execution_count": 12,
      "outputs": [
        {
          "output_type": "execute_result",
          "data": {
            "text/plain": [
              "            Close_TSLA        QQQ         SPY        USO  US10Y        VIX  \\\n",
              "Date                                                                         \n",
              "2016-01-28   12.646667  95.208992  161.673798  77.599998  1.985  22.420000   \n",
              "2016-01-29   12.746667  97.197189  165.614960  77.199997  1.931  20.200001   \n",
              "2016-02-01   13.129333  97.458542  165.555176  72.160004  1.966  19.980000   \n",
              "2016-02-02   12.185333  95.348991  162.571472  68.559998  1.864  21.980000   \n",
              "2016-02-03   11.565333  94.891617  163.546097  74.720001  1.881  21.650000   \n",
              "2016-02-04   11.688667  94.882309  163.802551  72.959999  1.864  21.840000   \n",
              "2016-02-05   10.840000  91.587311  160.682144  71.279999  1.848  23.379999   \n",
              "2016-02-08    9.866000  90.187164  158.519135  69.120003  1.735  26.000000   \n",
              "2016-02-09    9.883333  89.907158  158.527710  65.440002  1.729  26.540001   \n",
              "2016-02-10    9.578000  90.252518  158.390900  63.680000  1.705  26.290001   \n",
              "\n",
              "                  RSI      MACD  Volume_norm  Earnings        ROC    Stoch_K  \\\n",
              "Date                                                                           \n",
              "2016-01-28  31.943029 -0.420907    -0.279700         0  -8.732259  16.704978   \n",
              "2016-01-29  35.906268 -0.421308    -0.351110         0  -8.939372  28.158479   \n",
              "2016-02-01  31.223438 -0.449634    -0.685460         0  -1.682399  14.393937   \n",
              "2016-02-02  29.340020 -0.481700     0.754208         0 -11.349303  14.828910   \n",
              "2016-02-03  26.046070 -0.530530    -0.326861         0 -15.371484   6.633952   \n",
              "2016-02-04  28.608784 -0.554073     0.373357         0 -14.356188  19.169047   \n",
              "2016-02-05  30.979122 -0.558226    -1.002782         0 -18.168093  27.434437   \n",
              "2016-02-08  39.286320 -0.524593     0.873674         0 -25.993897  46.377216   \n",
              "2016-02-09  29.767995 -0.567569     1.419969         0 -26.808195   7.865516   \n",
              "2016-02-10  25.413067 -0.644230     2.553152         1 -26.840818   8.190628   \n",
              "\n",
              "              Stoch_D  rolling_vol     lag_1  \n",
              "Date                                          \n",
              "2016-01-28  17.831706     0.916591 -0.028363  \n",
              "2016-01-29  19.695483     0.923898  0.008667  \n",
              "2016-02-01  19.752465     0.946739  0.007907  \n",
              "2016-02-02  19.127109     0.964475  0.030021  \n",
              "2016-02-03  11.952266     0.999201 -0.071900  \n",
              "2016-02-04  13.543970     0.958588 -0.050881  \n",
              "2016-02-05  17.745812     0.873099  0.010664  \n",
              "2016-02-08  30.993567     0.704256 -0.072606  \n",
              "2016-02-09  27.225723     0.705204 -0.089852  \n",
              "2016-02-10  20.811120     0.744625  0.001757  "
            ],
            "text/html": [
              "\n",
              "  <div id=\"df-04c39a2a-cc48-423c-adcd-8d7bd1a79935\" class=\"colab-df-container\">\n",
              "    <div>\n",
              "<style scoped>\n",
              "    .dataframe tbody tr th:only-of-type {\n",
              "        vertical-align: middle;\n",
              "    }\n",
              "\n",
              "    .dataframe tbody tr th {\n",
              "        vertical-align: top;\n",
              "    }\n",
              "\n",
              "    .dataframe thead th {\n",
              "        text-align: right;\n",
              "    }\n",
              "</style>\n",
              "<table border=\"1\" class=\"dataframe\">\n",
              "  <thead>\n",
              "    <tr style=\"text-align: right;\">\n",
              "      <th></th>\n",
              "      <th>Close_TSLA</th>\n",
              "      <th>QQQ</th>\n",
              "      <th>SPY</th>\n",
              "      <th>USO</th>\n",
              "      <th>US10Y</th>\n",
              "      <th>VIX</th>\n",
              "      <th>RSI</th>\n",
              "      <th>MACD</th>\n",
              "      <th>Volume_norm</th>\n",
              "      <th>Earnings</th>\n",
              "      <th>ROC</th>\n",
              "      <th>Stoch_K</th>\n",
              "      <th>Stoch_D</th>\n",
              "      <th>rolling_vol</th>\n",
              "      <th>lag_1</th>\n",
              "    </tr>\n",
              "    <tr>\n",
              "      <th>Date</th>\n",
              "      <th></th>\n",
              "      <th></th>\n",
              "      <th></th>\n",
              "      <th></th>\n",
              "      <th></th>\n",
              "      <th></th>\n",
              "      <th></th>\n",
              "      <th></th>\n",
              "      <th></th>\n",
              "      <th></th>\n",
              "      <th></th>\n",
              "      <th></th>\n",
              "      <th></th>\n",
              "      <th></th>\n",
              "      <th></th>\n",
              "    </tr>\n",
              "  </thead>\n",
              "  <tbody>\n",
              "    <tr>\n",
              "      <th>2016-01-28</th>\n",
              "      <td>12.646667</td>\n",
              "      <td>95.208992</td>\n",
              "      <td>161.673798</td>\n",
              "      <td>77.599998</td>\n",
              "      <td>1.985</td>\n",
              "      <td>22.420000</td>\n",
              "      <td>31.943029</td>\n",
              "      <td>-0.420907</td>\n",
              "      <td>-0.279700</td>\n",
              "      <td>0</td>\n",
              "      <td>-8.732259</td>\n",
              "      <td>16.704978</td>\n",
              "      <td>17.831706</td>\n",
              "      <td>0.916591</td>\n",
              "      <td>-0.028363</td>\n",
              "    </tr>\n",
              "    <tr>\n",
              "      <th>2016-01-29</th>\n",
              "      <td>12.746667</td>\n",
              "      <td>97.197189</td>\n",
              "      <td>165.614960</td>\n",
              "      <td>77.199997</td>\n",
              "      <td>1.931</td>\n",
              "      <td>20.200001</td>\n",
              "      <td>35.906268</td>\n",
              "      <td>-0.421308</td>\n",
              "      <td>-0.351110</td>\n",
              "      <td>0</td>\n",
              "      <td>-8.939372</td>\n",
              "      <td>28.158479</td>\n",
              "      <td>19.695483</td>\n",
              "      <td>0.923898</td>\n",
              "      <td>0.008667</td>\n",
              "    </tr>\n",
              "    <tr>\n",
              "      <th>2016-02-01</th>\n",
              "      <td>13.129333</td>\n",
              "      <td>97.458542</td>\n",
              "      <td>165.555176</td>\n",
              "      <td>72.160004</td>\n",
              "      <td>1.966</td>\n",
              "      <td>19.980000</td>\n",
              "      <td>31.223438</td>\n",
              "      <td>-0.449634</td>\n",
              "      <td>-0.685460</td>\n",
              "      <td>0</td>\n",
              "      <td>-1.682399</td>\n",
              "      <td>14.393937</td>\n",
              "      <td>19.752465</td>\n",
              "      <td>0.946739</td>\n",
              "      <td>0.007907</td>\n",
              "    </tr>\n",
              "    <tr>\n",
              "      <th>2016-02-02</th>\n",
              "      <td>12.185333</td>\n",
              "      <td>95.348991</td>\n",
              "      <td>162.571472</td>\n",
              "      <td>68.559998</td>\n",
              "      <td>1.864</td>\n",
              "      <td>21.980000</td>\n",
              "      <td>29.340020</td>\n",
              "      <td>-0.481700</td>\n",
              "      <td>0.754208</td>\n",
              "      <td>0</td>\n",
              "      <td>-11.349303</td>\n",
              "      <td>14.828910</td>\n",
              "      <td>19.127109</td>\n",
              "      <td>0.964475</td>\n",
              "      <td>0.030021</td>\n",
              "    </tr>\n",
              "    <tr>\n",
              "      <th>2016-02-03</th>\n",
              "      <td>11.565333</td>\n",
              "      <td>94.891617</td>\n",
              "      <td>163.546097</td>\n",
              "      <td>74.720001</td>\n",
              "      <td>1.881</td>\n",
              "      <td>21.650000</td>\n",
              "      <td>26.046070</td>\n",
              "      <td>-0.530530</td>\n",
              "      <td>-0.326861</td>\n",
              "      <td>0</td>\n",
              "      <td>-15.371484</td>\n",
              "      <td>6.633952</td>\n",
              "      <td>11.952266</td>\n",
              "      <td>0.999201</td>\n",
              "      <td>-0.071900</td>\n",
              "    </tr>\n",
              "    <tr>\n",
              "      <th>2016-02-04</th>\n",
              "      <td>11.688667</td>\n",
              "      <td>94.882309</td>\n",
              "      <td>163.802551</td>\n",
              "      <td>72.959999</td>\n",
              "      <td>1.864</td>\n",
              "      <td>21.840000</td>\n",
              "      <td>28.608784</td>\n",
              "      <td>-0.554073</td>\n",
              "      <td>0.373357</td>\n",
              "      <td>0</td>\n",
              "      <td>-14.356188</td>\n",
              "      <td>19.169047</td>\n",
              "      <td>13.543970</td>\n",
              "      <td>0.958588</td>\n",
              "      <td>-0.050881</td>\n",
              "    </tr>\n",
              "    <tr>\n",
              "      <th>2016-02-05</th>\n",
              "      <td>10.840000</td>\n",
              "      <td>91.587311</td>\n",
              "      <td>160.682144</td>\n",
              "      <td>71.279999</td>\n",
              "      <td>1.848</td>\n",
              "      <td>23.379999</td>\n",
              "      <td>30.979122</td>\n",
              "      <td>-0.558226</td>\n",
              "      <td>-1.002782</td>\n",
              "      <td>0</td>\n",
              "      <td>-18.168093</td>\n",
              "      <td>27.434437</td>\n",
              "      <td>17.745812</td>\n",
              "      <td>0.873099</td>\n",
              "      <td>0.010664</td>\n",
              "    </tr>\n",
              "    <tr>\n",
              "      <th>2016-02-08</th>\n",
              "      <td>9.866000</td>\n",
              "      <td>90.187164</td>\n",
              "      <td>158.519135</td>\n",
              "      <td>69.120003</td>\n",
              "      <td>1.735</td>\n",
              "      <td>26.000000</td>\n",
              "      <td>39.286320</td>\n",
              "      <td>-0.524593</td>\n",
              "      <td>0.873674</td>\n",
              "      <td>0</td>\n",
              "      <td>-25.993897</td>\n",
              "      <td>46.377216</td>\n",
              "      <td>30.993567</td>\n",
              "      <td>0.704256</td>\n",
              "      <td>-0.072606</td>\n",
              "    </tr>\n",
              "    <tr>\n",
              "      <th>2016-02-09</th>\n",
              "      <td>9.883333</td>\n",
              "      <td>89.907158</td>\n",
              "      <td>158.527710</td>\n",
              "      <td>65.440002</td>\n",
              "      <td>1.729</td>\n",
              "      <td>26.540001</td>\n",
              "      <td>29.767995</td>\n",
              "      <td>-0.567569</td>\n",
              "      <td>1.419969</td>\n",
              "      <td>0</td>\n",
              "      <td>-26.808195</td>\n",
              "      <td>7.865516</td>\n",
              "      <td>27.225723</td>\n",
              "      <td>0.705204</td>\n",
              "      <td>-0.089852</td>\n",
              "    </tr>\n",
              "    <tr>\n",
              "      <th>2016-02-10</th>\n",
              "      <td>9.578000</td>\n",
              "      <td>90.252518</td>\n",
              "      <td>158.390900</td>\n",
              "      <td>63.680000</td>\n",
              "      <td>1.705</td>\n",
              "      <td>26.290001</td>\n",
              "      <td>25.413067</td>\n",
              "      <td>-0.644230</td>\n",
              "      <td>2.553152</td>\n",
              "      <td>1</td>\n",
              "      <td>-26.840818</td>\n",
              "      <td>8.190628</td>\n",
              "      <td>20.811120</td>\n",
              "      <td>0.744625</td>\n",
              "      <td>0.001757</td>\n",
              "    </tr>\n",
              "  </tbody>\n",
              "</table>\n",
              "</div>\n",
              "    <div class=\"colab-df-buttons\">\n",
              "\n",
              "  <div class=\"colab-df-container\">\n",
              "    <button class=\"colab-df-convert\" onclick=\"convertToInteractive('df-04c39a2a-cc48-423c-adcd-8d7bd1a79935')\"\n",
              "            title=\"Convert this dataframe to an interactive table.\"\n",
              "            style=\"display:none;\">\n",
              "\n",
              "  <svg xmlns=\"http://www.w3.org/2000/svg\" height=\"24px\" viewBox=\"0 -960 960 960\">\n",
              "    <path d=\"M120-120v-720h720v720H120Zm60-500h600v-160H180v160Zm220 220h160v-160H400v160Zm0 220h160v-160H400v160ZM180-400h160v-160H180v160Zm440 0h160v-160H620v160ZM180-180h160v-160H180v160Zm440 0h160v-160H620v160Z\"/>\n",
              "  </svg>\n",
              "    </button>\n",
              "\n",
              "  <style>\n",
              "    .colab-df-container {\n",
              "      display:flex;\n",
              "      gap: 12px;\n",
              "    }\n",
              "\n",
              "    .colab-df-convert {\n",
              "      background-color: #E8F0FE;\n",
              "      border: none;\n",
              "      border-radius: 50%;\n",
              "      cursor: pointer;\n",
              "      display: none;\n",
              "      fill: #1967D2;\n",
              "      height: 32px;\n",
              "      padding: 0 0 0 0;\n",
              "      width: 32px;\n",
              "    }\n",
              "\n",
              "    .colab-df-convert:hover {\n",
              "      background-color: #E2EBFA;\n",
              "      box-shadow: 0px 1px 2px rgba(60, 64, 67, 0.3), 0px 1px 3px 1px rgba(60, 64, 67, 0.15);\n",
              "      fill: #174EA6;\n",
              "    }\n",
              "\n",
              "    .colab-df-buttons div {\n",
              "      margin-bottom: 4px;\n",
              "    }\n",
              "\n",
              "    [theme=dark] .colab-df-convert {\n",
              "      background-color: #3B4455;\n",
              "      fill: #D2E3FC;\n",
              "    }\n",
              "\n",
              "    [theme=dark] .colab-df-convert:hover {\n",
              "      background-color: #434B5C;\n",
              "      box-shadow: 0px 1px 3px 1px rgba(0, 0, 0, 0.15);\n",
              "      filter: drop-shadow(0px 1px 2px rgba(0, 0, 0, 0.3));\n",
              "      fill: #FFFFFF;\n",
              "    }\n",
              "  </style>\n",
              "\n",
              "    <script>\n",
              "      const buttonEl =\n",
              "        document.querySelector('#df-04c39a2a-cc48-423c-adcd-8d7bd1a79935 button.colab-df-convert');\n",
              "      buttonEl.style.display =\n",
              "        google.colab.kernel.accessAllowed ? 'block' : 'none';\n",
              "\n",
              "      async function convertToInteractive(key) {\n",
              "        const element = document.querySelector('#df-04c39a2a-cc48-423c-adcd-8d7bd1a79935');\n",
              "        const dataTable =\n",
              "          await google.colab.kernel.invokeFunction('convertToInteractive',\n",
              "                                                    [key], {});\n",
              "        if (!dataTable) return;\n",
              "\n",
              "        const docLinkHtml = 'Like what you see? Visit the ' +\n",
              "          '<a target=\"_blank\" href=https://colab.research.google.com/notebooks/data_table.ipynb>data table notebook</a>'\n",
              "          + ' to learn more about interactive tables.';\n",
              "        element.innerHTML = '';\n",
              "        dataTable['output_type'] = 'display_data';\n",
              "        await google.colab.output.renderOutput(dataTable, element);\n",
              "        const docLink = document.createElement('div');\n",
              "        docLink.innerHTML = docLinkHtml;\n",
              "        element.appendChild(docLink);\n",
              "      }\n",
              "    </script>\n",
              "  </div>\n",
              "\n",
              "\n",
              "    <div id=\"df-68600c3d-7b4d-4c7a-a2d1-996394e50d4e\">\n",
              "      <button class=\"colab-df-quickchart\" onclick=\"quickchart('df-68600c3d-7b4d-4c7a-a2d1-996394e50d4e')\"\n",
              "                title=\"Suggest charts\"\n",
              "                style=\"display:none;\">\n",
              "\n",
              "<svg xmlns=\"http://www.w3.org/2000/svg\" height=\"24px\"viewBox=\"0 0 24 24\"\n",
              "     width=\"24px\">\n",
              "    <g>\n",
              "        <path d=\"M19 3H5c-1.1 0-2 .9-2 2v14c0 1.1.9 2 2 2h14c1.1 0 2-.9 2-2V5c0-1.1-.9-2-2-2zM9 17H7v-7h2v7zm4 0h-2V7h2v10zm4 0h-2v-4h2v4z\"/>\n",
              "    </g>\n",
              "</svg>\n",
              "      </button>\n",
              "\n",
              "<style>\n",
              "  .colab-df-quickchart {\n",
              "      --bg-color: #E8F0FE;\n",
              "      --fill-color: #1967D2;\n",
              "      --hover-bg-color: #E2EBFA;\n",
              "      --hover-fill-color: #174EA6;\n",
              "      --disabled-fill-color: #AAA;\n",
              "      --disabled-bg-color: #DDD;\n",
              "  }\n",
              "\n",
              "  [theme=dark] .colab-df-quickchart {\n",
              "      --bg-color: #3B4455;\n",
              "      --fill-color: #D2E3FC;\n",
              "      --hover-bg-color: #434B5C;\n",
              "      --hover-fill-color: #FFFFFF;\n",
              "      --disabled-bg-color: #3B4455;\n",
              "      --disabled-fill-color: #666;\n",
              "  }\n",
              "\n",
              "  .colab-df-quickchart {\n",
              "    background-color: var(--bg-color);\n",
              "    border: none;\n",
              "    border-radius: 50%;\n",
              "    cursor: pointer;\n",
              "    display: none;\n",
              "    fill: var(--fill-color);\n",
              "    height: 32px;\n",
              "    padding: 0;\n",
              "    width: 32px;\n",
              "  }\n",
              "\n",
              "  .colab-df-quickchart:hover {\n",
              "    background-color: var(--hover-bg-color);\n",
              "    box-shadow: 0 1px 2px rgba(60, 64, 67, 0.3), 0 1px 3px 1px rgba(60, 64, 67, 0.15);\n",
              "    fill: var(--button-hover-fill-color);\n",
              "  }\n",
              "\n",
              "  .colab-df-quickchart-complete:disabled,\n",
              "  .colab-df-quickchart-complete:disabled:hover {\n",
              "    background-color: var(--disabled-bg-color);\n",
              "    fill: var(--disabled-fill-color);\n",
              "    box-shadow: none;\n",
              "  }\n",
              "\n",
              "  .colab-df-spinner {\n",
              "    border: 2px solid var(--fill-color);\n",
              "    border-color: transparent;\n",
              "    border-bottom-color: var(--fill-color);\n",
              "    animation:\n",
              "      spin 1s steps(1) infinite;\n",
              "  }\n",
              "\n",
              "  @keyframes spin {\n",
              "    0% {\n",
              "      border-color: transparent;\n",
              "      border-bottom-color: var(--fill-color);\n",
              "      border-left-color: var(--fill-color);\n",
              "    }\n",
              "    20% {\n",
              "      border-color: transparent;\n",
              "      border-left-color: var(--fill-color);\n",
              "      border-top-color: var(--fill-color);\n",
              "    }\n",
              "    30% {\n",
              "      border-color: transparent;\n",
              "      border-left-color: var(--fill-color);\n",
              "      border-top-color: var(--fill-color);\n",
              "      border-right-color: var(--fill-color);\n",
              "    }\n",
              "    40% {\n",
              "      border-color: transparent;\n",
              "      border-right-color: var(--fill-color);\n",
              "      border-top-color: var(--fill-color);\n",
              "    }\n",
              "    60% {\n",
              "      border-color: transparent;\n",
              "      border-right-color: var(--fill-color);\n",
              "    }\n",
              "    80% {\n",
              "      border-color: transparent;\n",
              "      border-right-color: var(--fill-color);\n",
              "      border-bottom-color: var(--fill-color);\n",
              "    }\n",
              "    90% {\n",
              "      border-color: transparent;\n",
              "      border-bottom-color: var(--fill-color);\n",
              "    }\n",
              "  }\n",
              "</style>\n",
              "\n",
              "      <script>\n",
              "        async function quickchart(key) {\n",
              "          const quickchartButtonEl =\n",
              "            document.querySelector('#' + key + ' button');\n",
              "          quickchartButtonEl.disabled = true;  // To prevent multiple clicks.\n",
              "          quickchartButtonEl.classList.add('colab-df-spinner');\n",
              "          try {\n",
              "            const charts = await google.colab.kernel.invokeFunction(\n",
              "                'suggestCharts', [key], {});\n",
              "          } catch (error) {\n",
              "            console.error('Error during call to suggestCharts:', error);\n",
              "          }\n",
              "          quickchartButtonEl.classList.remove('colab-df-spinner');\n",
              "          quickchartButtonEl.classList.add('colab-df-quickchart-complete');\n",
              "        }\n",
              "        (() => {\n",
              "          let quickchartButtonEl =\n",
              "            document.querySelector('#df-68600c3d-7b4d-4c7a-a2d1-996394e50d4e button');\n",
              "          quickchartButtonEl.style.display =\n",
              "            google.colab.kernel.accessAllowed ? 'block' : 'none';\n",
              "        })();\n",
              "      </script>\n",
              "    </div>\n",
              "\n",
              "    </div>\n",
              "  </div>\n"
            ],
            "application/vnd.google.colaboratory.intrinsic+json": {
              "type": "dataframe",
              "variable_name": "features",
              "summary": "{\n  \"name\": \"features\",\n  \"rows\": 2321,\n  \"fields\": [\n    {\n      \"column\": \"Date\",\n      \"properties\": {\n        \"dtype\": \"date\",\n        \"min\": \"2016-01-28 00:00:00\",\n        \"max\": \"2025-04-22 00:00:00\",\n        \"num_unique_values\": 2321,\n        \"samples\": [\n          \"2022-11-01 00:00:00\",\n          \"2020-11-25 00:00:00\",\n          \"2016-06-21 00:00:00\"\n        ],\n        \"semantic_type\": \"\",\n        \"description\": \"\"\n      }\n    },\n    {\n      \"column\": \"Close_TSLA\",\n      \"properties\": {\n        \"dtype\": \"number\",\n        \"std\": 118.7173101795321,\n        \"min\": 9.57800006866455,\n        \"max\": 479.8599853515625,\n        \"num_unique_values\": 2280,\n        \"samples\": [\n          16.863332748413086,\n          249.85000610351562,\n          348.586669921875\n        ],\n        \"semantic_type\": \"\",\n        \"description\": \"\"\n      }\n    },\n    {\n      \"column\": \"QQQ\",\n      \"properties\": {\n        \"dtype\": \"number\",\n        \"std\": 120.67256119343912,\n        \"min\": 89.90715789794922,\n        \"max\": 538.7166748046875,\n        \"num_unique_values\": 2288,\n        \"samples\": [\n          313.0885925292969,\n          220.2783203125,\n          173.71864318847656\n        ],\n        \"semantic_type\": \"\",\n        \"description\": \"\"\n      }\n    },\n    {\n      \"column\": \"SPY\",\n      \"properties\": {\n        \"dtype\": \"number\",\n        \"std\": 117.56736822789698,\n        \"min\": 156.33058166503906,\n        \"max\": 611.0916748046875,\n        \"num_unique_values\": 2284,\n        \"samples\": [\n          215.55282592773438,\n          596.8397827148438,\n          608.5493774414062\n        ],\n        \"semantic_type\": \"\",\n        \"description\": \"\"\n      }\n    },\n    {\n      \"column\": \"USO\",\n      \"properties\": {\n        \"dtype\": \"number\",\n        \"std\": 22.220843681264512,\n        \"min\": 17.040000915527344,\n        \"max\": 128.63999938964844,\n        \"num_unique_values\": 1547,\n        \"samples\": [\n          83.83999633789062,\n          50.25,\n          73.19000244140625\n        ],\n        \"semantic_type\": \"\",\n        \"description\": \"\"\n      }\n    },\n    {\n      \"column\": \"US10Y\",\n      \"properties\": {\n        \"dtype\": \"number\",\n        \"std\": 1.1411455999025697,\n        \"min\": 0.49900001287460327,\n        \"max\": 4.98799991607666,\n        \"num_unique_values\": 1681,\n        \"samples\": [\n          4.2779998779296875,\n          2.953000068664551,\n          2.3610000610351562\n        ],\n        \"semantic_type\": \"\",\n        \"description\": \"\"\n      }\n    },\n    {\n      \"column\": \"VIX\",\n      \"properties\": {\n        \"dtype\": \"number\",\n        \"std\": 7.5671807089867995,\n        \"min\": 9.140000343322754,\n        \"max\": 82.69000244140625,\n        \"num_unique_values\": 1356,\n        \"samples\": [\n          15.359999656677246,\n          28.56999969482422,\n          19.799999237060547\n        ],\n        \"semantic_type\": \"\",\n        \"description\": \"\"\n      }\n    },\n    {\n      \"column\": \"RSI\",\n      \"properties\": {\n        \"dtype\": \"number\",\n        \"std\": 13.697352955049393,\n        \"min\": 16.56412588530037,\n        \"max\": 94.1979834518968,\n        \"num_unique_values\": 2319,\n        \"samples\": [\n          79.78211759679496,\n          22.997327709582066,\n          42.58352916969035\n        ],\n        \"semantic_type\": \"\",\n        \"description\": \"\"\n      }\n    },\n    {\n      \"column\": \"MACD\",\n      \"properties\": {\n        \"dtype\": \"number\",\n        \"std\": 8.424831005327254,\n        \"min\": -35.58322787699143,\n        \"max\": 40.53860614746981,\n        \"num_unique_values\": 2321,\n        \"samples\": [\n          -16.350812503580812,\n          1.7592806309244224,\n          -0.05549358285098194\n        ],\n        \"semantic_type\": \"\",\n        \"description\": \"\"\n      }\n    },\n    {\n      \"column\": \"Volume_norm\",\n      \"properties\": {\n        \"dtype\": \"number\",\n        \"std\": 1.064099598931991,\n        \"min\": -2.9343846905223505,\n        \"max\": 4.091360321517874,\n        \"num_unique_values\": 2321,\n        \"samples\": [\n          0.8378397604379577,\n          3.1193615852760135,\n          -0.3926071753646866\n        ],\n        \"semantic_type\": \"\",\n        \"description\": \"\"\n      }\n    },\n    {\n      \"column\": \"Earnings\",\n      \"properties\": {\n        \"dtype\": \"number\",\n        \"std\": 0,\n        \"min\": 0,\n        \"max\": 1,\n        \"num_unique_values\": 2,\n        \"samples\": [\n          1,\n          0\n        ],\n        \"semantic_type\": \"\",\n        \"description\": \"\"\n      }\n    },\n    {\n      \"column\": \"ROC\",\n      \"properties\": {\n        \"dtype\": \"number\",\n        \"std\": 14.299044759204426,\n        \"min\": -51.42411698883216,\n        \"max\": 72.75117541025696,\n        \"num_unique_values\": 2321,\n        \"samples\": [\n          11.137129235218259,\n          36.25789114230652\n        ],\n        \"semantic_type\": \"\",\n        \"description\": \"\"\n      }\n    },\n    {\n      \"column\": \"Stoch_K\",\n      \"properties\": {\n        \"dtype\": \"number\",\n        \"std\": 31.006224236585524,\n        \"min\": 0.03339610068045511,\n        \"max\": 100.0,\n        \"num_unique_values\": 2315,\n        \"samples\": [\n          76.34428475193522,\n          97.05570661773098\n        ],\n        \"semantic_type\": \"\",\n        \"description\": \"\"\n      }\n    },\n    {\n      \"column\": \"Stoch_D\",\n      \"properties\": {\n        \"dtype\": \"number\",\n        \"std\": 29.119094407284408,\n        \"min\": 0.7459831645765224,\n        \"max\": 99.06262146565386,\n        \"num_unique_values\": 2321,\n        \"samples\": [\n          33.52038337264321,\n          68.96043275166262\n        ],\n        \"semantic_type\": \"\",\n        \"description\": \"\"\n      }\n    },\n    {\n      \"column\": \"rolling_vol\",\n      \"properties\": {\n        \"dtype\": \"number\",\n        \"std\": 9.929814166181062,\n        \"min\": 0.1949252556190552,\n        \"max\": 53.380065756255085,\n        \"num_unique_values\": 2321,\n        \"samples\": [\n          22.152864631505164,\n          6.631689928253672\n        ],\n        \"semantic_type\": \"\",\n        \"description\": \"\"\n      }\n    },\n    {\n      \"column\": \"lag_1\",\n      \"properties\": {\n        \"dtype\": \"number\",\n        \"std\": 0.03774124867549919,\n        \"min\": -0.21062824320390794,\n        \"max\": 0.22689989839624536,\n        \"num_unique_values\": 2320,\n        \"samples\": [\n          -0.004288512900427199,\n          0.06425217853318599\n        ],\n        \"semantic_type\": \"\",\n        \"description\": \"\"\n      }\n    }\n  ]\n}"
            }
          },
          "metadata": {},
          "execution_count": 12
        }
      ]
    },
    {
      "cell_type": "code",
      "source": [
        "# 1) Feature correlation check\n",
        "import seaborn as sns\n",
        "import matplotlib.pyplot as plt\n",
        "\n",
        "plt.figure(figsize=(14, 10))\n",
        "sns.heatmap(features_scaled.corr(), cmap='coolwarm', center=0, annot=False)\n",
        "plt.title(\"Feature Correlation Heatmap\")\n",
        "plt.tight_layout()\n",
        "plt.show()"
      ],
      "metadata": {
        "colab": {
          "base_uri": "https://localhost:8080/",
          "height": 861
        },
        "id": "QjvolSX3W1VE",
        "outputId": "d89df9fb-2e08-4fac-942c-e42dfe2166bb"
      },
      "execution_count": 13,
      "outputs": [
        {
          "output_type": "display_data",
          "data": {
            "text/plain": [
              "<Figure size 1400x1000 with 2 Axes>"
            ],
            "image/png": "[encoded data removed]"
          },
          "metadata": {}
        }
      ]
    },
    {
      "cell_type": "code",
      "source": [
        "target_series = pd.Series(target, index=features_scaled.index, name='direction')"
      ],
      "metadata": {
        "id": "cBY65fmrHr2a"
      },
      "execution_count": 14,
      "outputs": []
    },
    {
      "cell_type": "code",
      "source": [
        "data_final = pd.concat([features_scaled, target_series], axis = 1)"
      ],
      "metadata": {
        "id": "Agjdm68xlqL2"
      },
      "execution_count": 15,
      "outputs": []
    },
    {
      "cell_type": "code",
      "source": [
        "data_final"
      ],
      "metadata": {
        "colab": {
          "base_uri": "https://localhost:8080/",
          "height": 649
        },
        "id": "yVTkGR00RMXE",
        "outputId": "23c02848-c669-4705-ba9e-7bad1dc0617b"
      },
      "execution_count": 16,
      "outputs": [
        {
          "output_type": "execute_result",
          "data": {
            "text/plain": [
              "            Close_TSLA       QQQ       SPY       USO     US10Y       VIX  \\\n",
              "Date                                                                       \n",
              "2016-01-28   -0.513476 -0.855504 -0.849923  0.032179 -0.232718  0.706876   \n",
              "2016-01-29   -0.513012 -0.845354 -0.827937  0.015886 -0.261214  0.439083   \n",
              "2016-02-01   -0.511235 -0.844020 -0.828271 -0.189409 -0.242744  0.412545   \n",
              "2016-02-02   -0.515619 -0.854789 -0.844915 -0.336049 -0.296570  0.653800   \n",
              "2016-02-03   -0.518498 -0.857124 -0.839478 -0.085132 -0.287599  0.613993   \n",
              "...                ...       ...       ...       ...       ...       ...   \n",
              "2025-04-15    0.607822  0.996526  1.247199 -0.420774  1.001055  1.635706   \n",
              "2025-04-16    0.549496  0.926024  1.180537 -0.369043  0.977836  1.939687   \n",
              "2025-04-17    0.548660  0.925616  1.184721 -0.298574  1.006332  1.579011   \n",
              "2025-04-21    0.484251  0.869511  1.114823 -0.333605  1.044327  2.082027   \n",
              "2025-04-22    0.532872  0.927556  1.189407 -0.303055  1.035884  1.689988   \n",
              "\n",
              "                 RSI      MACD  Volume_norm  Earnings       ROC   Stoch_K  \\\n",
              "Date                                                                        \n",
              "2016-01-28 -1.050890 -0.160690    -0.045626       0.0 -0.631304 -0.704526   \n",
              "2016-01-29 -0.836186 -0.160803    -0.101162       0.0 -0.644334 -0.505636   \n",
              "2016-02-01 -1.089873 -0.168772    -0.361190       0.0 -0.187769 -0.744657   \n",
              "2016-02-02 -1.191905 -0.177793     0.758455       0.0 -0.795952 -0.737104   \n",
              "2016-02-03 -1.370351 -0.191531    -0.082303       0.0 -1.049004 -0.879410   \n",
              "...              ...       ...          ...       ...       ...       ...   \n",
              "2025-04-15 -0.845634 -3.868844     0.905660       0.0 -0.307271 -0.824315   \n",
              "2025-04-16 -0.005520 -3.138356     1.780477       0.0 -0.509425  0.302174   \n",
              "2025-04-17 -0.262927 -2.975123     0.876431       0.0 -0.716780 -0.140903   \n",
              "2025-04-21 -0.264070 -2.815831    -0.338299       0.0 -1.311456 -0.142917   \n",
              "2025-04-22 -0.263440 -2.658524    -0.960554       0.0 -0.771839 -0.142021   \n",
              "\n",
              "             Stoch_D  rolling_vol     lag_1  direction  \n",
              "Date                                                    \n",
              "2016-01-28 -0.725806    -0.365953 -0.797269        0.0  \n",
              "2016-01-29 -0.691560    -0.365393  0.199113        0.0  \n",
              "2016-02-01 -0.690513    -0.363642  0.178672        0.0  \n",
              "2016-02-02 -0.702003    -0.362282  0.773687        0.0  \n",
              "2016-02-03 -0.833838    -0.359620 -1.968722        0.0  \n",
              "...              ...          ...       ...        ...  \n",
              "2025-04-15 -0.692125     1.079969 -0.029824        0.0  \n",
              "2025-04-16 -0.385721     1.109306  0.153572        1.0  \n",
              "2025-04-17 -0.234889     1.089287 -1.364046        1.0  \n",
              "2025-04-21  0.005448     1.087290 -0.054143        1.0  \n",
              "2025-04-22 -0.151225     1.056087 -1.580278        1.0  \n",
              "\n",
              "[2321 rows x 16 columns]"
            ],
            "text/html": [
              "\n",
              "  <div id=\"df-a2ee7a98-1fd5-4b7e-9d20-fac657267b9b\" class=\"colab-df-container\">\n",
              "    <div>\n",
              "<style scoped>\n",
              "    .dataframe tbody tr th:only-of-type {\n",
              "        vertical-align: middle;\n",
              "    }\n",
              "\n",
              "    .dataframe tbody tr th {\n",
              "        vertical-align: top;\n",
              "    }\n",
              "\n",
              "    .dataframe thead th {\n",
              "        text-align: right;\n",
              "    }\n",
              "</style>\n",
              "<table border=\"1\" class=\"dataframe\">\n",
              "  <thead>\n",
              "    <tr style=\"text-align: right;\">\n",
              "      <th></th>\n",
              "      <th>Close_TSLA</th>\n",
              "      <th>QQQ</th>\n",
              "      <th>SPY</th>\n",
              "      <th>USO</th>\n",
              "      <th>US10Y</th>\n",
              "      <th>VIX</th>\n",
              "      <th>RSI</th>\n",
              "      <th>MACD</th>\n",
              "      <th>Volume_norm</th>\n",
              "      <th>Earnings</th>\n",
              "      <th>ROC</th>\n",
              "      <th>Stoch_K</th>\n",
              "      <th>Stoch_D</th>\n",
              "      <th>rolling_vol</th>\n",
              "      <th>lag_1</th>\n",
              "      <th>direction</th>\n",
              "    </tr>\n",
              "    <tr>\n",
              "      <th>Date</th>\n",
              "      <th></th>\n",
              "      <th></th>\n",
              "      <th></th>\n",
              "      <th></th>\n",
              "      <th></th>\n",
              "      <th></th>\n",
              "      <th></th>\n",
              "      <th></th>\n",
              "      <th></th>\n",
              "      <th></th>\n",
              "      <th></th>\n",
              "      <th></th>\n",
              "      <th></th>\n",
              "      <th></th>\n",
              "      <th></th>\n",
              "      <th></th>\n",
              "    </tr>\n",
              "  </thead>\n",
              "  <tbody>\n",
              "    <tr>\n",
              "      <th>2016-01-28</th>\n",
              "      <td>-0.513476</td>\n",
              "      <td>-0.855504</td>\n",
              "      <td>-0.849923</td>\n",
              "      <td>0.032179</td>\n",
              "      <td>-0.232718</td>\n",
              "      <td>0.706876</td>\n",
              "      <td>-1.050890</td>\n",
              "      <td>-0.160690</td>\n",
              "      <td>-0.045626</td>\n",
              "      <td>0.0</td>\n",
              "      <td>-0.631304</td>\n",
              "      <td>-0.704526</td>\n",
              "      <td>-0.725806</td>\n",
              "      <td>-0.365953</td>\n",
              "      <td>-0.797269</td>\n",
              "      <td>0.0</td>\n",
              "    </tr>\n",
              "    <tr>\n",
              "      <th>2016-01-29</th>\n",
              "      <td>-0.513012</td>\n",
              "      <td>-0.845354</td>\n",
              "      <td>-0.827937</td>\n",
              "      <td>0.015886</td>\n",
              "      <td>-0.261214</td>\n",
              "      <td>0.439083</td>\n",
              "      <td>-0.836186</td>\n",
              "      <td>-0.160803</td>\n",
              "      <td>-0.101162</td>\n",
              "      <td>0.0</td>\n",
              "      <td>-0.644334</td>\n",
              "      <td>-0.505636</td>\n",
              "      <td>-0.691560</td>\n",
              "      <td>-0.365393</td>\n",
              "      <td>0.199113</td>\n",
              "      <td>0.0</td>\n",
              "    </tr>\n",
              "    <tr>\n",
              "      <th>2016-02-01</th>\n",
              "      <td>-0.511235</td>\n",
              "      <td>-0.844020</td>\n",
              "      <td>-0.828271</td>\n",
              "      <td>-0.189409</td>\n",
              "      <td>-0.242744</td>\n",
              "      <td>0.412545</td>\n",
              "      <td>-1.089873</td>\n",
              "      <td>-0.168772</td>\n",
              "      <td>-0.361190</td>\n",
              "      <td>0.0</td>\n",
              "      <td>-0.187769</td>\n",
              "      <td>-0.744657</td>\n",
              "      <td>-0.690513</td>\n",
              "      <td>-0.363642</td>\n",
              "      <td>0.178672</td>\n",
              "      <td>0.0</td>\n",
              "    </tr>\n",
              "    <tr>\n",
              "      <th>2016-02-02</th>\n",
              "      <td>-0.515619</td>\n",
              "      <td>-0.854789</td>\n",
              "      <td>-0.844915</td>\n",
              "      <td>-0.336049</td>\n",
              "      <td>-0.296570</td>\n",
              "      <td>0.653800</td>\n",
              "      <td>-1.191905</td>\n",
              "      <td>-0.177793</td>\n",
              "      <td>0.758455</td>\n",
              "      <td>0.0</td>\n",
              "      <td>-0.795952</td>\n",
              "      <td>-0.737104</td>\n",
              "      <td>-0.702003</td>\n",
              "      <td>-0.362282</td>\n",
              "      <td>0.773687</td>\n",
              "      <td>0.0</td>\n",
              "    </tr>\n",
              "    <tr>\n",
              "      <th>2016-02-03</th>\n",
              "      <td>-0.518498</td>\n",
              "      <td>-0.857124</td>\n",
              "      <td>-0.839478</td>\n",
              "      <td>-0.085132</td>\n",
              "      <td>-0.287599</td>\n",
              "      <td>0.613993</td>\n",
              "      <td>-1.370351</td>\n",
              "      <td>-0.191531</td>\n",
              "      <td>-0.082303</td>\n",
              "      <td>0.0</td>\n",
              "      <td>-1.049004</td>\n",
              "      <td>-0.879410</td>\n",
              "      <td>-0.833838</td>\n",
              "      <td>-0.359620</td>\n",
              "      <td>-1.968722</td>\n",
              "      <td>0.0</td>\n",
              "    </tr>\n",
              "    <tr>\n",
              "      <th>...</th>\n",
              "      <td>...</td>\n",
              "      <td>...</td>\n",
              "      <td>...</td>\n",
              "      <td>...</td>\n",
              "      <td>...</td>\n",
              "      <td>...</td>\n",
              "      <td>...</td>\n",
              "      <td>...</td>\n",
              "      <td>...</td>\n",
              "      <td>...</td>\n",
              "      <td>...</td>\n",
              "      <td>...</td>\n",
              "      <td>...</td>\n",
              "      <td>...</td>\n",
              "      <td>...</td>\n",
              "      <td>...</td>\n",
              "    </tr>\n",
              "    <tr>\n",
              "      <th>2025-04-15</th>\n",
              "      <td>0.607822</td>\n",
              "      <td>0.996526</td>\n",
              "      <td>1.247199</td>\n",
              "      <td>-0.420774</td>\n",
              "      <td>1.001055</td>\n",
              "      <td>1.635706</td>\n",
              "      <td>-0.845634</td>\n",
              "      <td>-3.868844</td>\n",
              "      <td>0.905660</td>\n",
              "      <td>0.0</td>\n",
              "      <td>-0.307271</td>\n",
              "      <td>-0.824315</td>\n",
              "      <td>-0.692125</td>\n",
              "      <td>1.079969</td>\n",
              "      <td>-0.029824</td>\n",
              "      <td>0.0</td>\n",
              "    </tr>\n",
              "    <tr>\n",
              "      <th>2025-04-16</th>\n",
              "      <td>0.549496</td>\n",
              "      <td>0.926024</td>\n",
              "      <td>1.180537</td>\n",
              "      <td>-0.369043</td>\n",
              "      <td>0.977836</td>\n",
              "      <td>1.939687</td>\n",
              "      <td>-0.005520</td>\n",
              "      <td>-3.138356</td>\n",
              "      <td>1.780477</td>\n",
              "      <td>0.0</td>\n",
              "      <td>-0.509425</td>\n",
              "      <td>0.302174</td>\n",
              "      <td>-0.385721</td>\n",
              "      <td>1.109306</td>\n",
              "      <td>0.153572</td>\n",
              "      <td>1.0</td>\n",
              "    </tr>\n",
              "    <tr>\n",
              "      <th>2025-04-17</th>\n",
              "      <td>0.548660</td>\n",
              "      <td>0.925616</td>\n",
              "      <td>1.184721</td>\n",
              "      <td>-0.298574</td>\n",
              "      <td>1.006332</td>\n",
              "      <td>1.579011</td>\n",
              "      <td>-0.262927</td>\n",
              "      <td>-2.975123</td>\n",
              "      <td>0.876431</td>\n",
              "      <td>0.0</td>\n",
              "      <td>-0.716780</td>\n",
              "      <td>-0.140903</td>\n",
              "      <td>-0.234889</td>\n",
              "      <td>1.089287</td>\n",
              "      <td>-1.364046</td>\n",
              "      <td>1.0</td>\n",
              "    </tr>\n",
              "    <tr>\n",
              "      <th>2025-04-21</th>\n",
              "      <td>0.484251</td>\n",
              "      <td>0.869511</td>\n",
              "      <td>1.114823</td>\n",
              "      <td>-0.333605</td>\n",
              "      <td>1.044327</td>\n",
              "      <td>2.082027</td>\n",
              "      <td>-0.264070</td>\n",
              "      <td>-2.815831</td>\n",
              "      <td>-0.338299</td>\n",
              "      <td>0.0</td>\n",
              "      <td>-1.311456</td>\n",
              "      <td>-0.142917</td>\n",
              "      <td>0.005448</td>\n",
              "      <td>1.087290</td>\n",
              "      <td>-0.054143</td>\n",
              "      <td>1.0</td>\n",
              "    </tr>\n",
              "    <tr>\n",
              "      <th>2025-04-22</th>\n",
              "      <td>0.532872</td>\n",
              "      <td>0.927556</td>\n",
              "      <td>1.189407</td>\n",
              "      <td>-0.303055</td>\n",
              "      <td>1.035884</td>\n",
              "      <td>1.689988</td>\n",
              "      <td>-0.263440</td>\n",
              "      <td>-2.658524</td>\n",
              "      <td>-0.960554</td>\n",
              "      <td>0.0</td>\n",
              "      <td>-0.771839</td>\n",
              "      <td>-0.142021</td>\n",
              "      <td>-0.151225</td>\n",
              "      <td>1.056087</td>\n",
              "      <td>-1.580278</td>\n",
              "      <td>1.0</td>\n",
              "    </tr>\n",
              "  </tbody>\n",
              "</table>\n",
              "<p>2321 rows × 16 columns</p>\n",
              "</div>\n",
              "    <div class=\"colab-df-buttons\">\n",
              "\n",
              "  <div class=\"colab-df-container\">\n",
              "    <button class=\"colab-df-convert\" onclick=\"convertToInteractive('df-a2ee7a98-1fd5-4b7e-9d20-fac657267b9b')\"\n",
              "            title=\"Convert this dataframe to an interactive table.\"\n",
              "            style=\"display:none;\">\n",
              "\n",
              "  <svg xmlns=\"http://www.w3.org/2000/svg\" height=\"24px\" viewBox=\"0 -960 960 960\">\n",
              "    <path d=\"M120-120v-720h720v720H120Zm60-500h600v-160H180v160Zm220 220h160v-160H400v160Zm0 220h160v-160H400v160ZM180-400h160v-160H180v160Zm440 0h160v-160H620v160ZM180-180h160v-160H180v160Zm440 0h160v-160H620v160Z\"/>\n",
              "  </svg>\n",
              "    </button>\n",
              "\n",
              "  <style>\n",
              "    .colab-df-container {\n",
              "      display:flex;\n",
              "      gap: 12px;\n",
              "    }\n",
              "\n",
              "    .colab-df-convert {\n",
              "      background-color: #E8F0FE;\n",
              "      border: none;\n",
              "      border-radius: 50%;\n",
              "      cursor: pointer;\n",
              "      display: none;\n",
              "      fill: #1967D2;\n",
              "      height: 32px;\n",
              "      padding: 0 0 0 0;\n",
              "      width: 32px;\n",
              "    }\n",
              "\n",
              "    .colab-df-convert:hover {\n",
              "      background-color: #E2EBFA;\n",
              "      box-shadow: 0px 1px 2px rgba(60, 64, 67, 0.3), 0px 1px 3px 1px rgba(60, 64, 67, 0.15);\n",
              "      fill: #174EA6;\n",
              "    }\n",
              "\n",
              "    .colab-df-buttons div {\n",
              "      margin-bottom: 4px;\n",
              "    }\n",
              "\n",
              "    [theme=dark] .colab-df-convert {\n",
              "      background-color: #3B4455;\n",
              "      fill: #D2E3FC;\n",
              "    }\n",
              "\n",
              "    [theme=dark] .colab-df-convert:hover {\n",
              "      background-color: #434B5C;\n",
              "      box-shadow: 0px 1px 3px 1px rgba(0, 0, 0, 0.15);\n",
              "      filter: drop-shadow(0px 1px 2px rgba(0, 0, 0, 0.3));\n",
              "      fill: #FFFFFF;\n",
              "    }\n",
              "  </style>\n",
              "\n",
              "    <script>\n",
              "      const buttonEl =\n",
              "        document.querySelector('#df-a2ee7a98-1fd5-4b7e-9d20-fac657267b9b button.colab-df-convert');\n",
              "      buttonEl.style.display =\n",
              "        google.colab.kernel.accessAllowed ? 'block' : 'none';\n",
              "\n",
              "      async function convertToInteractive(key) {\n",
              "        const element = document.querySelector('#df-a2ee7a98-1fd5-4b7e-9d20-fac657267b9b');\n",
              "        const dataTable =\n",
              "          await google.colab.kernel.invokeFunction('convertToInteractive',\n",
              "                                                    [key], {});\n",
              "        if (!dataTable) return;\n",
              "\n",
              "        const docLinkHtml = 'Like what you see? Visit the ' +\n",
              "          '<a target=\"_blank\" href=https://colab.research.google.com/notebooks/data_table.ipynb>data table notebook</a>'\n",
              "          + ' to learn more about interactive tables.';\n",
              "        element.innerHTML = '';\n",
              "        dataTable['output_type'] = 'display_data';\n",
              "        await google.colab.output.renderOutput(dataTable, element);\n",
              "        const docLink = document.createElement('div');\n",
              "        docLink.innerHTML = docLinkHtml;\n",
              "        element.appendChild(docLink);\n",
              "      }\n",
              "    </script>\n",
              "  </div>\n",
              "\n",
              "\n",
              "    <div id=\"df-b36a2634-746a-4f79-912a-dfad2cb70099\">\n",
              "      <button class=\"colab-df-quickchart\" onclick=\"quickchart('df-b36a2634-746a-4f79-912a-dfad2cb70099')\"\n",
              "                title=\"Suggest charts\"\n",
              "                style=\"display:none;\">\n",
              "\n",
              "<svg xmlns=\"http://www.w3.org/2000/svg\" height=\"24px\"viewBox=\"0 0 24 24\"\n",
              "     width=\"24px\">\n",
              "    <g>\n",
              "        <path d=\"M19 3H5c-1.1 0-2 .9-2 2v14c0 1.1.9 2 2 2h14c1.1 0 2-.9 2-2V5c0-1.1-.9-2-2-2zM9 17H7v-7h2v7zm4 0h-2V7h2v10zm4 0h-2v-4h2v4z\"/>\n",
              "    </g>\n",
              "</svg>\n",
              "      </button>\n",
              "\n",
              "<style>\n",
              "  .colab-df-quickchart {\n",
              "      --bg-color: #E8F0FE;\n",
              "      --fill-color: #1967D2;\n",
              "      --hover-bg-color: #E2EBFA;\n",
              "      --hover-fill-color: #174EA6;\n",
              "      --disabled-fill-color: #AAA;\n",
              "      --disabled-bg-color: #DDD;\n",
              "  }\n",
              "\n",
              "  [theme=dark] .colab-df-quickchart {\n",
              "      --bg-color: #3B4455;\n",
              "      --fill-color: #D2E3FC;\n",
              "      --hover-bg-color: #434B5C;\n",
              "      --hover-fill-color: #FFFFFF;\n",
              "      --disabled-bg-color: #3B4455;\n",
              "      --disabled-fill-color: #666;\n",
              "  }\n",
              "\n",
              "  .colab-df-quickchart {\n",
              "    background-color: var(--bg-color);\n",
              "    border: none;\n",
              "    border-radius: 50%;\n",
              "    cursor: pointer;\n",
              "    display: none;\n",
              "    fill: var(--fill-color);\n",
              "    height: 32px;\n",
              "    padding: 0;\n",
              "    width: 32px;\n",
              "  }\n",
              "\n",
              "  .colab-df-quickchart:hover {\n",
              "    background-color: var(--hover-bg-color);\n",
              "    box-shadow: 0 1px 2px rgba(60, 64, 67, 0.3), 0 1px 3px 1px rgba(60, 64, 67, 0.15);\n",
              "    fill: var(--button-hover-fill-color);\n",
              "  }\n",
              "\n",
              "  .colab-df-quickchart-complete:disabled,\n",
              "  .colab-df-quickchart-complete:disabled:hover {\n",
              "    background-color: var(--disabled-bg-color);\n",
              "    fill: var(--disabled-fill-color);\n",
              "    box-shadow: none;\n",
              "  }\n",
              "\n",
              "  .colab-df-spinner {\n",
              "    border: 2px solid var(--fill-color);\n",
              "    border-color: transparent;\n",
              "    border-bottom-color: var(--fill-color);\n",
              "    animation:\n",
              "      spin 1s steps(1) infinite;\n",
              "  }\n",
              "\n",
              "  @keyframes spin {\n",
              "    0% {\n",
              "      border-color: transparent;\n",
              "      border-bottom-color: var(--fill-color);\n",
              "      border-left-color: var(--fill-color);\n",
              "    }\n",
              "    20% {\n",
              "      border-color: transparent;\n",
              "      border-left-color: var(--fill-color);\n",
              "      border-top-color: var(--fill-color);\n",
              "    }\n",
              "    30% {\n",
              "      border-color: transparent;\n",
              "      border-left-color: var(--fill-color);\n",
              "      border-top-color: var(--fill-color);\n",
              "      border-right-color: var(--fill-color);\n",
              "    }\n",
              "    40% {\n",
              "      border-color: transparent;\n",
              "      border-right-color: var(--fill-color);\n",
              "      border-top-color: var(--fill-color);\n",
              "    }\n",
              "    60% {\n",
              "      border-color: transparent;\n",
              "      border-right-color: var(--fill-color);\n",
              "    }\n",
              "    80% {\n",
              "      border-color: transparent;\n",
              "      border-right-color: var(--fill-color);\n",
              "      border-bottom-color: var(--fill-color);\n",
              "    }\n",
              "    90% {\n",
              "      border-color: transparent;\n",
              "      border-bottom-color: var(--fill-color);\n",
              "    }\n",
              "  }\n",
              "</style>\n",
              "\n",
              "      <script>\n",
              "        async function quickchart(key) {\n",
              "          const quickchartButtonEl =\n",
              "            document.querySelector('#' + key + ' button');\n",
              "          quickchartButtonEl.disabled = true;  // To prevent multiple clicks.\n",
              "          quickchartButtonEl.classList.add('colab-df-spinner');\n",
              "          try {\n",
              "            const charts = await google.colab.kernel.invokeFunction(\n",
              "                'suggestCharts', [key], {});\n",
              "          } catch (error) {\n",
              "            console.error('Error during call to suggestCharts:', error);\n",
              "          }\n",
              "          quickchartButtonEl.classList.remove('colab-df-spinner');\n",
              "          quickchartButtonEl.classList.add('colab-df-quickchart-complete');\n",
              "        }\n",
              "        (() => {\n",
              "          let quickchartButtonEl =\n",
              "            document.querySelector('#df-b36a2634-746a-4f79-912a-dfad2cb70099 button');\n",
              "          quickchartButtonEl.style.display =\n",
              "            google.colab.kernel.accessAllowed ? 'block' : 'none';\n",
              "        })();\n",
              "      </script>\n",
              "    </div>\n",
              "\n",
              "  <div id=\"id_6f777dec-f327-4f22-8548-ef02d4c3036c\">\n",
              "    <style>\n",
              "      .colab-df-generate {\n",
              "        background-color: #E8F0FE;\n",
              "        border: none;\n",
              "        border-radius: 50%;\n",
              "        cursor: pointer;\n",
              "        display: none;\n",
              "        fill: #1967D2;\n",
              "        height: 32px;\n",
              "        padding: 0 0 0 0;\n",
              "        width: 32px;\n",
              "      }\n",
              "\n",
              "      .colab-df-generate:hover {\n",
              "        background-color: #E2EBFA;\n",
              "        box-shadow: 0px 1px 2px rgba(60, 64, 67, 0.3), 0px 1px 3px 1px rgba(60, 64, 67, 0.15);\n",
              "        fill: #174EA6;\n",
              "      }\n",
              "\n",
              "      [theme=dark] .colab-df-generate {\n",
              "        background-color: #3B4455;\n",
              "        fill: #D2E3FC;\n",
              "      }\n",
              "\n",
              "      [theme=dark] .colab-df-generate:hover {\n",
              "        background-color: #434B5C;\n",
              "        box-shadow: 0px 1px 3px 1px rgba(0, 0, 0, 0.15);\n",
              "        filter: drop-shadow(0px 1px 2px rgba(0, 0, 0, 0.3));\n",
              "        fill: #FFFFFF;\n",
              "      }\n",
              "    </style>\n",
              "    <button class=\"colab-df-generate\" onclick=\"generateWithVariable('data_final')\"\n",
              "            title=\"Generate code using this dataframe.\"\n",
              "            style=\"display:none;\">\n",
              "\n",
              "  <svg xmlns=\"http://www.w3.org/2000/svg\" height=\"24px\"viewBox=\"0 0 24 24\"\n",
              "       width=\"24px\">\n",
              "    <path d=\"M7,19H8.4L18.45,9,17,7.55,7,17.6ZM5,21V16.75L18.45,3.32a2,2,0,0,1,2.83,0l1.4,1.43a1.91,1.91,0,0,1,.58,1.4,1.91,1.91,0,0,1-.58,1.4L9.25,21ZM18.45,9,17,7.55Zm-12,3A5.31,5.31,0,0,0,4.9,8.1,5.31,5.31,0,0,0,1,6.5,5.31,5.31,0,0,0,4.9,4.9,5.31,5.31,0,0,0,6.5,1,5.31,5.31,0,0,0,8.1,4.9,5.31,5.31,0,0,0,12,6.5,5.46,5.46,0,0,0,6.5,12Z\"/>\n",
              "  </svg>\n",
              "    </button>\n",
              "    <script>\n",
              "      (() => {\n",
              "      const buttonEl =\n",
              "        document.querySelector('#id_6f777dec-f327-4f22-8548-ef02d4c3036c button.colab-df-generate');\n",
              "      buttonEl.style.display =\n",
              "        google.colab.kernel.accessAllowed ? 'block' : 'none';\n",
              "\n",
              "      buttonEl.onclick = () => {\n",
              "        google.colab.notebook.generateWithVariable('data_final');\n",
              "      }\n",
              "      })();\n",
              "    </script>\n",
              "  </div>\n",
              "\n",
              "    </div>\n",
              "  </div>\n"
            ],
            "application/vnd.google.colaboratory.intrinsic+json": {
              "type": "dataframe",
              "variable_name": "data_final",
              "summary": "{\n  \"name\": \"data_final\",\n  \"rows\": 2321,\n  \"fields\": [\n    {\n      \"column\": \"Date\",\n      \"properties\": {\n        \"dtype\": \"date\",\n        \"min\": \"2016-01-28 00:00:00\",\n        \"max\": \"2025-04-22 00:00:00\",\n        \"num_unique_values\": 2321,\n        \"samples\": [\n          \"2022-11-01 00:00:00\",\n          \"2020-11-25 00:00:00\",\n          \"2016-06-21 00:00:00\"\n        ],\n        \"semantic_type\": \"\",\n        \"description\": \"\"\n      }\n    },\n    {\n      \"column\": \"Close_TSLA\",\n      \"properties\": {\n        \"dtype\": \"number\",\n        \"std\": 0.5512948682445487,\n        \"min\": -0.5277263438450227,\n        \"max\": 1.6561510091900487,\n        \"num_unique_values\": 2280,\n        \"samples\": [\n          -0.49389499680956633,\n          0.5880395348589411,\n          1.0465490478215544\n        ],\n        \"semantic_type\": \"\",\n        \"description\": \"\"\n      }\n    },\n    {\n      \"column\": \"QQQ\",\n      \"properties\": {\n        \"dtype\": \"number\",\n        \"std\": 0.6160443749647101,\n        \"min\": -0.8825704882818007,\n        \"max\": 1.4086428214101598,\n        \"num_unique_values\": 2288,\n        \"samples\": [\n          0.25679098744588263,\n          -0.21701387401262967,\n          -0.4547052506500157\n        ],\n        \"semantic_type\": \"\",\n        \"description\": \"\"\n      }\n    },\n    {\n      \"column\": \"SPY\",\n      \"properties\": {\n        \"dtype\": \"number\",\n        \"std\": 0.6558374451071014,\n        \"min\": -0.8797291801332938,\n        \"max\": 1.6571087023026039,\n        \"num_unique_values\": 2284,\n        \"samples\": [\n          -0.5493639949956496,\n          1.5776059913290383,\n          1.6429267585152354\n        ],\n        \"semantic_type\": \"\",\n        \"description\": \"\"\n      }\n    },\n    {\n      \"column\": \"USO\",\n      \"properties\": {\n        \"dtype\": \"number\",\n        \"std\": 0.9051259030158658,\n        \"min\": -2.434622778541235,\n        \"max\": 2.1112014414736944,\n        \"num_unique_values\": 1547,\n        \"samples\": [\n          0.28635429349950803,\n          -1.0818734931559213,\n          -0.14745395793049823\n        ],\n        \"semantic_type\": \"\",\n        \"description\": \"\"\n      }\n    },\n    {\n      \"column\": \"US10Y\",\n      \"properties\": {\n        \"dtype\": \"number\",\n        \"std\": 0.6021876577247429,\n        \"min\": -1.0168866093807836,\n        \"max\": 1.3519787987377276,\n        \"num_unique_values\": 1681,\n        \"samples\": [\n          0.977308590139712,\n          0.2781002404819402,\n          -0.03430082209746451\n        ],\n        \"semantic_type\": \"\",\n        \"description\": \"\"\n      }\n    },\n    {\n      \"column\": \"VIX\",\n      \"properties\": {\n        \"dtype\": \"number\",\n        \"std\": 0.9128083973859574,\n        \"min\": -0.8950542835167096,\n        \"max\": 7.977082133571019,\n        \"num_unique_values\": 1356,\n        \"samples\": [\n          -0.14475270842387872,\n          1.448733614688381,\n          0.3908323472562131\n        ],\n        \"semantic_type\": \"\",\n        \"description\": \"\"\n      }\n    },\n    {\n      \"column\": \"RSI\",\n      \"properties\": {\n        \"dtype\": \"number\",\n        \"std\": 0.742038568453629,\n        \"min\": -1.8840249635691,\n        \"max\": 2.321701261147456,\n        \"num_unique_values\": 2319,\n        \"samples\": [\n          1.5407380708694463,\n          -1.5355135476824644,\n          -0.47445328730964587\n        ],\n        \"semantic_type\": \"\",\n        \"description\": \"\"\n      }\n    },\n    {\n      \"column\": \"MACD\",\n      \"properties\": {\n        \"dtype\": \"number\",\n        \"std\": 2.3702259406895902,\n        \"min\": -10.053190644712616,\n        \"max\": 11.362781443458314,\n        \"num_unique_values\": 2321,\n        \"samples\": [\n          -4.642379461514952,\n          0.4526797163565198,\n          -0.057885411331514494\n        ],\n        \"semantic_type\": \"\",\n        \"description\": \"\"\n      }\n    },\n    {\n      \"column\": \"Volume_norm\",\n      \"properties\": {\n        \"dtype\": \"number\",\n        \"std\": 0.827561522770955,\n        \"min\": -2.1102022279914885,\n        \"max\": 3.353794043222265,\n        \"num_unique_values\": 2321,\n        \"samples\": [\n          0.8234966607250932,\n          2.5978603363558195,\n          -0.13343494690233512\n        ],\n        \"semantic_type\": \"\",\n        \"description\": \"\"\n      }\n    },\n    {\n      \"column\": \"Earnings\",\n      \"properties\": {\n        \"dtype\": \"number\",\n        \"std\": 0.12527584741044795,\n        \"min\": 0.0,\n        \"max\": 1.0,\n        \"num_unique_values\": 2,\n        \"samples\": [\n          1.0,\n          0.0\n        ],\n        \"semantic_type\": \"\",\n        \"description\": \"\"\n      }\n    },\n    {\n      \"column\": \"ROC\",\n      \"properties\": {\n        \"dtype\": \"number\",\n        \"std\": 0.8996104883742787,\n        \"min\": -3.317220376579896,\n        \"max\": 4.4951473249237255,\n        \"num_unique_values\": 2321,\n        \"samples\": [\n          0.6187595589114584,\n          2.1992078523558507\n        ],\n        \"semantic_type\": \"\",\n        \"description\": \"\"\n      }\n    },\n    {\n      \"column\": \"Stoch_K\",\n      \"properties\": {\n        \"dtype\": \"number\",\n        \"std\": 0.538423867541387,\n        \"min\": -0.9940284935447278,\n        \"max\": 0.7418941097930815,\n        \"num_unique_values\": 2315,\n        \"samples\": [\n          0.33111201661928263,\n          0.690766380793842\n        ],\n        \"semantic_type\": \"\",\n        \"description\": \"\"\n      }\n    },\n    {\n      \"column\": \"Stoch_D\",\n      \"properties\": {\n        \"dtype\": \"number\",\n        \"std\": 0.5350493557568337,\n        \"min\": -1.039747802078502,\n        \"max\": 0.7667731441913691,\n        \"num_unique_values\": 2321,\n        \"samples\": [\n          -0.4375339601447374,\n          0.21365990333925797\n        ],\n        \"semantic_type\": \"\",\n        \"description\": \"\"\n      }\n    },\n    {\n      \"column\": \"rolling_vol\",\n      \"properties\": {\n        \"dtype\": \"number\",\n        \"std\": 0.7612573077125988,\n        \"min\": -0.42127856449602197,\n        \"max\": 3.65609651929185,\n        \"num_unique_values\": 2321,\n        \"samples\": [\n          1.2621005534268115,\n          0.0721882882632093\n        ],\n        \"semantic_type\": \"\",\n        \"description\": \"\"\n      }\n    },\n    {\n      \"column\": \"lag_1\",\n      \"properties\": {\n        \"dtype\": \"number\",\n        \"std\": 1.0155127032109896,\n        \"min\": -5.701514721741831,\n        \"max\": 6.071158451514664,\n        \"num_unique_values\": 2320,\n        \"samples\": [\n          -0.14948280297960984,\n          1.694757790016035\n        ],\n        \"semantic_type\": \"\",\n        \"description\": \"\"\n      }\n    },\n    {\n      \"column\": \"direction\",\n      \"properties\": {\n        \"dtype\": \"float32\",\n        \"num_unique_values\": 2,\n        \"samples\": [\n          1.0,\n          0.0\n        ],\n        \"semantic_type\": \"\",\n        \"description\": \"\"\n      }\n    }\n  ]\n}"
            }
          },
          "metadata": {},
          "execution_count": 16
        }
      ]
    },
    {
      "cell_type": "code",
      "source": [
        "## Save the dataframe\n",
        "data_final.to_parquet('DATA.parquet')\n",
        "data_final.to_csv('DATA.csv')"
      ],
      "metadata": {
        "id": "-ycOPGdaTJCS"
      },
      "execution_count": 17,
      "outputs": []
    },
    {
      "cell_type": "code",
      "source": [
        "data_final = pd.read_csv('DATA.csv')"
      ],
      "metadata": {
        "id": "OjS8b8kawm_4"
      },
      "execution_count": 2,
      "outputs": []
    },
    {
      "cell_type": "code",
      "source": [
        "data_final.head(5)"
      ],
      "metadata": {
        "colab": {
          "base_uri": "https://localhost:8080/",
          "height": 344
        },
        "id": "iBuGKEpjZISw",
        "outputId": "c946d51a-6015-4dbf-9502-11c24223a03f"
      },
      "execution_count": 17,
      "outputs": [
        {
          "output_type": "execute_result",
          "data": {
            "text/plain": [
              "            Close_TSLA       QQQ       SPY       USO     US10Y       VIX  \\\n",
              "Date                                                                       \n",
              "2016-01-28   -0.513476 -0.855504 -0.849923  0.032179 -0.232718  0.706876   \n",
              "2016-01-29   -0.513012 -0.845354 -0.827937  0.015886 -0.261214  0.439083   \n",
              "2016-02-01   -0.511235 -0.844020 -0.828271 -0.189409 -0.242744  0.412545   \n",
              "2016-02-02   -0.515619 -0.854789 -0.844915 -0.336049 -0.296570  0.653800   \n",
              "2016-02-03   -0.518498 -0.857124 -0.839478 -0.085132 -0.287599  0.613993   \n",
              "\n",
              "                 RSI      MACD  Volume_norm  Earnings       ROC   Stoch_K  \\\n",
              "Date                                                                        \n",
              "2016-01-28 -1.050890 -0.160690    -0.045626       0.0 -0.631304 -0.704526   \n",
              "2016-01-29 -0.836186 -0.160803    -0.101162       0.0 -0.644334 -0.505636   \n",
              "2016-02-01 -1.089873 -0.168772    -0.361190       0.0 -0.187769 -0.744657   \n",
              "2016-02-02 -1.191905 -0.177793     0.758455       0.0 -0.795952 -0.737104   \n",
              "2016-02-03 -1.370351 -0.191531    -0.082303       0.0 -1.049004 -0.879410   \n",
              "\n",
              "             Stoch_D  rolling_vol     lag_1  direction  \n",
              "Date                                                    \n",
              "2016-01-28 -0.725806    -0.365953 -0.797269        0.0  \n",
              "2016-01-29 -0.691560    -0.365393  0.199113        0.0  \n",
              "2016-02-01 -0.690513    -0.363642  0.178672        0.0  \n",
              "2016-02-02 -0.702003    -0.362282  0.773687        0.0  \n",
              "2016-02-03 -0.833838    -0.359620 -1.968722        0.0  "
            ],
            "text/html": [
              "\n",
              "  <div id=\"df-92764810-3b38-40c1-9842-244c3811248f\" class=\"colab-df-container\">\n",
              "    <div>\n",
              "<style scoped>\n",
              "    .dataframe tbody tr th:only-of-type {\n",
              "        vertical-align: middle;\n",
              "    }\n",
              "\n",
              "    .dataframe tbody tr th {\n",
              "        vertical-align: top;\n",
              "    }\n",
              "\n",
              "    .dataframe thead th {\n",
              "        text-align: right;\n",
              "    }\n",
              "</style>\n",
              "<table border=\"1\" class=\"dataframe\">\n",
              "  <thead>\n",
              "    <tr style=\"text-align: right;\">\n",
              "      <th></th>\n",
              "      <th>Close_TSLA</th>\n",
              "      <th>QQQ</th>\n",
              "      <th>SPY</th>\n",
              "      <th>USO</th>\n",
              "      <th>US10Y</th>\n",
              "      <th>VIX</th>\n",
              "      <th>RSI</th>\n",
              "      <th>MACD</th>\n",
              "      <th>Volume_norm</th>\n",
              "      <th>Earnings</th>\n",
              "      <th>ROC</th>\n",
              "      <th>Stoch_K</th>\n",
              "      <th>Stoch_D</th>\n",
              "      <th>rolling_vol</th>\n",
              "      <th>lag_1</th>\n",
              "      <th>direction</th>\n",
              "    </tr>\n",
              "    <tr>\n",
              "      <th>Date</th>\n",
              "      <th></th>\n",
              "      <th></th>\n",
              "      <th></th>\n",
              "      <th></th>\n",
              "      <th></th>\n",
              "      <th></th>\n",
              "      <th></th>\n",
              "      <th></th>\n",
              "      <th></th>\n",
              "      <th></th>\n",
              "      <th></th>\n",
              "      <th></th>\n",
              "      <th></th>\n",
              "      <th></th>\n",
              "      <th></th>\n",
              "      <th></th>\n",
              "    </tr>\n",
              "  </thead>\n",
              "  <tbody>\n",
              "    <tr>\n",
              "      <th>2016-01-28</th>\n",
              "      <td>-0.513476</td>\n",
              "      <td>-0.855504</td>\n",
              "      <td>-0.849923</td>\n",
              "      <td>0.032179</td>\n",
              "      <td>-0.232718</td>\n",
              "      <td>0.706876</td>\n",
              "      <td>-1.050890</td>\n",
              "      <td>-0.160690</td>\n",
              "      <td>-0.045626</td>\n",
              "      <td>0.0</td>\n",
              "      <td>-0.631304</td>\n",
              "      <td>-0.704526</td>\n",
              "      <td>-0.725806</td>\n",
              "      <td>-0.365953</td>\n",
              "      <td>-0.797269</td>\n",
              "      <td>0.0</td>\n",
              "    </tr>\n",
              "    <tr>\n",
              "      <th>2016-01-29</th>\n",
              "      <td>-0.513012</td>\n",
              "      <td>-0.845354</td>\n",
              "      <td>-0.827937</td>\n",
              "      <td>0.015886</td>\n",
              "      <td>-0.261214</td>\n",
              "      <td>0.439083</td>\n",
              "      <td>-0.836186</td>\n",
              "      <td>-0.160803</td>\n",
              "      <td>-0.101162</td>\n",
              "      <td>0.0</td>\n",
              "      <td>-0.644334</td>\n",
              "      <td>-0.505636</td>\n",
              "      <td>-0.691560</td>\n",
              "      <td>-0.365393</td>\n",
              "      <td>0.199113</td>\n",
              "      <td>0.0</td>\n",
              "    </tr>\n",
              "    <tr>\n",
              "      <th>2016-02-01</th>\n",
              "      <td>-0.511235</td>\n",
              "      <td>-0.844020</td>\n",
              "      <td>-0.828271</td>\n",
              "      <td>-0.189409</td>\n",
              "      <td>-0.242744</td>\n",
              "      <td>0.412545</td>\n",
              "      <td>-1.089873</td>\n",
              "      <td>-0.168772</td>\n",
              "      <td>-0.361190</td>\n",
              "      <td>0.0</td>\n",
              "      <td>-0.187769</td>\n",
              "      <td>-0.744657</td>\n",
              "      <td>-0.690513</td>\n",
              "      <td>-0.363642</td>\n",
              "      <td>0.178672</td>\n",
              "      <td>0.0</td>\n",
              "    </tr>\n",
              "    <tr>\n",
              "      <th>2016-02-02</th>\n",
              "      <td>-0.515619</td>\n",
              "      <td>-0.854789</td>\n",
              "      <td>-0.844915</td>\n",
              "      <td>-0.336049</td>\n",
              "      <td>-0.296570</td>\n",
              "      <td>0.653800</td>\n",
              "      <td>-1.191905</td>\n",
              "      <td>-0.177793</td>\n",
              "      <td>0.758455</td>\n",
              "      <td>0.0</td>\n",
              "      <td>-0.795952</td>\n",
              "      <td>-0.737104</td>\n",
              "      <td>-0.702003</td>\n",
              "      <td>-0.362282</td>\n",
              "      <td>0.773687</td>\n",
              "      <td>0.0</td>\n",
              "    </tr>\n",
              "    <tr>\n",
              "      <th>2016-02-03</th>\n",
              "      <td>-0.518498</td>\n",
              "      <td>-0.857124</td>\n",
              "      <td>-0.839478</td>\n",
              "      <td>-0.085132</td>\n",
              "      <td>-0.287599</td>\n",
              "      <td>0.613993</td>\n",
              "      <td>-1.370351</td>\n",
              "      <td>-0.191531</td>\n",
              "      <td>-0.082303</td>\n",
              "      <td>0.0</td>\n",
              "      <td>-1.049004</td>\n",
              "      <td>-0.879410</td>\n",
              "      <td>-0.833838</td>\n",
              "      <td>-0.359620</td>\n",
              "      <td>-1.968722</td>\n",
              "      <td>0.0</td>\n",
              "    </tr>\n",
              "  </tbody>\n",
              "</table>\n",
              "</div>\n",
              "    <div class=\"colab-df-buttons\">\n",
              "\n",
              "  <div class=\"colab-df-container\">\n",
              "    <button class=\"colab-df-convert\" onclick=\"convertToInteractive('df-92764810-3b38-40c1-9842-244c3811248f')\"\n",
              "            title=\"Convert this dataframe to an interactive table.\"\n",
              "            style=\"display:none;\">\n",
              "\n",
              "  <svg xmlns=\"http://www.w3.org/2000/svg\" height=\"24px\" viewBox=\"0 -960 960 960\">\n",
              "    <path d=\"M120-120v-720h720v720H120Zm60-500h600v-160H180v160Zm220 220h160v-160H400v160Zm0 220h160v-160H400v160ZM180-400h160v-160H180v160Zm440 0h160v-160H620v160ZM180-180h160v-160H180v160Zm440 0h160v-160H620v160Z\"/>\n",
              "  </svg>\n",
              "    </button>\n",
              "\n",
              "  <style>\n",
              "    .colab-df-container {\n",
              "      display:flex;\n",
              "      gap: 12px;\n",
              "    }\n",
              "\n",
              "    .colab-df-convert {\n",
              "      background-color: #E8F0FE;\n",
              "      border: none;\n",
              "      border-radius: 50%;\n",
              "      cursor: pointer;\n",
              "      display: none;\n",
              "      fill: #1967D2;\n",
              "      height: 32px;\n",
              "      padding: 0 0 0 0;\n",
              "      width: 32px;\n",
              "    }\n",
              "\n",
              "    .colab-df-convert:hover {\n",
              "      background-color: #E2EBFA;\n",
              "      box-shadow: 0px 1px 2px rgba(60, 64, 67, 0.3), 0px 1px 3px 1px rgba(60, 64, 67, 0.15);\n",
              "      fill: #174EA6;\n",
              "    }\n",
              "\n",
              "    .colab-df-buttons div {\n",
              "      margin-bottom: 4px;\n",
              "    }\n",
              "\n",
              "    [theme=dark] .colab-df-convert {\n",
              "      background-color: #3B4455;\n",
              "      fill: #D2E3FC;\n",
              "    }\n",
              "\n",
              "    [theme=dark] .colab-df-convert:hover {\n",
              "      background-color: #434B5C;\n",
              "      box-shadow: 0px 1px 3px 1px rgba(0, 0, 0, 0.15);\n",
              "      filter: drop-shadow(0px 1px 2px rgba(0, 0, 0, 0.3));\n",
              "      fill: #FFFFFF;\n",
              "    }\n",
              "  </style>\n",
              "\n",
              "    <script>\n",
              "      const buttonEl =\n",
              "        document.querySelector('#df-92764810-3b38-40c1-9842-244c3811248f button.colab-df-convert');\n",
              "      buttonEl.style.display =\n",
              "        google.colab.kernel.accessAllowed ? 'block' : 'none';\n",
              "\n",
              "      async function convertToInteractive(key) {\n",
              "        const element = document.querySelector('#df-92764810-3b38-40c1-9842-244c3811248f');\n",
              "        const dataTable =\n",
              "          await google.colab.kernel.invokeFunction('convertToInteractive',\n",
              "                                                    [key], {});\n",
              "        if (!dataTable) return;\n",
              "\n",
              "        const docLinkHtml = 'Like what you see? Visit the ' +\n",
              "          '<a target=\"_blank\" href=https://colab.research.google.com/notebooks/data_table.ipynb>data table notebook</a>'\n",
              "          + ' to learn more about interactive tables.';\n",
              "        element.innerHTML = '';\n",
              "        dataTable['output_type'] = 'display_data';\n",
              "        await google.colab.output.renderOutput(dataTable, element);\n",
              "        const docLink = document.createElement('div');\n",
              "        docLink.innerHTML = docLinkHtml;\n",
              "        element.appendChild(docLink);\n",
              "      }\n",
              "    </script>\n",
              "  </div>\n",
              "\n",
              "\n",
              "    <div id=\"df-6b87c954-e3f0-4be5-86cd-e9bfc3e60d15\">\n",
              "      <button class=\"colab-df-quickchart\" onclick=\"quickchart('df-6b87c954-e3f0-4be5-86cd-e9bfc3e60d15')\"\n",
              "                title=\"Suggest charts\"\n",
              "                style=\"display:none;\">\n",
              "\n",
              "<svg xmlns=\"http://www.w3.org/2000/svg\" height=\"24px\"viewBox=\"0 0 24 24\"\n",
              "     width=\"24px\">\n",
              "    <g>\n",
              "        <path d=\"M19 3H5c-1.1 0-2 .9-2 2v14c0 1.1.9 2 2 2h14c1.1 0 2-.9 2-2V5c0-1.1-.9-2-2-2zM9 17H7v-7h2v7zm4 0h-2V7h2v10zm4 0h-2v-4h2v4z\"/>\n",
              "    </g>\n",
              "</svg>\n",
              "      </button>\n",
              "\n",
              "<style>\n",
              "  .colab-df-quickchart {\n",
              "      --bg-color: #E8F0FE;\n",
              "      --fill-color: #1967D2;\n",
              "      --hover-bg-color: #E2EBFA;\n",
              "      --hover-fill-color: #174EA6;\n",
              "      --disabled-fill-color: #AAA;\n",
              "      --disabled-bg-color: #DDD;\n",
              "  }\n",
              "\n",
              "  [theme=dark] .colab-df-quickchart {\n",
              "      --bg-color: #3B4455;\n",
              "      --fill-color: #D2E3FC;\n",
              "      --hover-bg-color: #434B5C;\n",
              "      --hover-fill-color: #FFFFFF;\n",
              "      --disabled-bg-color: #3B4455;\n",
              "      --disabled-fill-color: #666;\n",
              "  }\n",
              "\n",
              "  .colab-df-quickchart {\n",
              "    background-color: var(--bg-color);\n",
              "    border: none;\n",
              "    border-radius: 50%;\n",
              "    cursor: pointer;\n",
              "    display: none;\n",
              "    fill: var(--fill-color);\n",
              "    height: 32px;\n",
              "    padding: 0;\n",
              "    width: 32px;\n",
              "  }\n",
              "\n",
              "  .colab-df-quickchart:hover {\n",
              "    background-color: var(--hover-bg-color);\n",
              "    box-shadow: 0 1px 2px rgba(60, 64, 67, 0.3), 0 1px 3px 1px rgba(60, 64, 67, 0.15);\n",
              "    fill: var(--button-hover-fill-color);\n",
              "  }\n",
              "\n",
              "  .colab-df-quickchart-complete:disabled,\n",
              "  .colab-df-quickchart-complete:disabled:hover {\n",
              "    background-color: var(--disabled-bg-color);\n",
              "    fill: var(--disabled-fill-color);\n",
              "    box-shadow: none;\n",
              "  }\n",
              "\n",
              "  .colab-df-spinner {\n",
              "    border: 2px solid var(--fill-color);\n",
              "    border-color: transparent;\n",
              "    border-bottom-color: var(--fill-color);\n",
              "    animation:\n",
              "      spin 1s steps(1) infinite;\n",
              "  }\n",
              "\n",
              "  @keyframes spin {\n",
              "    0% {\n",
              "      border-color: transparent;\n",
              "      border-bottom-color: var(--fill-color);\n",
              "      border-left-color: var(--fill-color);\n",
              "    }\n",
              "    20% {\n",
              "      border-color: transparent;\n",
              "      border-left-color: var(--fill-color);\n",
              "      border-top-color: var(--fill-color);\n",
              "    }\n",
              "    30% {\n",
              "      border-color: transparent;\n",
              "      border-left-color: var(--fill-color);\n",
              "      border-top-color: var(--fill-color);\n",
              "      border-right-color: var(--fill-color);\n",
              "    }\n",
              "    40% {\n",
              "      border-color: transparent;\n",
              "      border-right-color: var(--fill-color);\n",
              "      border-top-color: var(--fill-color);\n",
              "    }\n",
              "    60% {\n",
              "      border-color: transparent;\n",
              "      border-right-color: var(--fill-color);\n",
              "    }\n",
              "    80% {\n",
              "      border-color: transparent;\n",
              "      border-right-color: var(--fill-color);\n",
              "      border-bottom-color: var(--fill-color);\n",
              "    }\n",
              "    90% {\n",
              "      border-color: transparent;\n",
              "      border-bottom-color: var(--fill-color);\n",
              "    }\n",
              "  }\n",
              "</style>\n",
              "\n",
              "      <script>\n",
              "        async function quickchart(key) {\n",
              "          const quickchartButtonEl =\n",
              "            document.querySelector('#' + key + ' button');\n",
              "          quickchartButtonEl.disabled = true;  // To prevent multiple clicks.\n",
              "          quickchartButtonEl.classList.add('colab-df-spinner');\n",
              "          try {\n",
              "            const charts = await google.colab.kernel.invokeFunction(\n",
              "                'suggestCharts', [key], {});\n",
              "          } catch (error) {\n",
              "            console.error('Error during call to suggestCharts:', error);\n",
              "          }\n",
              "          quickchartButtonEl.classList.remove('colab-df-spinner');\n",
              "          quickchartButtonEl.classList.add('colab-df-quickchart-complete');\n",
              "        }\n",
              "        (() => {\n",
              "          let quickchartButtonEl =\n",
              "            document.querySelector('#df-6b87c954-e3f0-4be5-86cd-e9bfc3e60d15 button');\n",
              "          quickchartButtonEl.style.display =\n",
              "            google.colab.kernel.accessAllowed ? 'block' : 'none';\n",
              "        })();\n",
              "      </script>\n",
              "    </div>\n",
              "\n",
              "    </div>\n",
              "  </div>\n"
            ],
            "application/vnd.google.colaboratory.intrinsic+json": {
              "type": "dataframe",
              "variable_name": "data_final",
              "summary": "{\n  \"name\": \"data_final\",\n  \"rows\": 2321,\n  \"fields\": [\n    {\n      \"column\": \"Date\",\n      \"properties\": {\n        \"dtype\": \"date\",\n        \"min\": \"2016-01-28 00:00:00\",\n        \"max\": \"2025-04-22 00:00:00\",\n        \"num_unique_values\": 2321,\n        \"samples\": [\n          \"2022-11-01 00:00:00\",\n          \"2020-11-25 00:00:00\",\n          \"2016-06-21 00:00:00\"\n        ],\n        \"semantic_type\": \"\",\n        \"description\": \"\"\n      }\n    },\n    {\n      \"column\": \"Close_TSLA\",\n      \"properties\": {\n        \"dtype\": \"number\",\n        \"std\": 0.5512948682445487,\n        \"min\": -0.5277263438450227,\n        \"max\": 1.6561510091900487,\n        \"num_unique_values\": 2280,\n        \"samples\": [\n          -0.49389499680956633,\n          0.5880395348589411,\n          1.0465490478215544\n        ],\n        \"semantic_type\": \"\",\n        \"description\": \"\"\n      }\n    },\n    {\n      \"column\": \"QQQ\",\n      \"properties\": {\n        \"dtype\": \"number\",\n        \"std\": 0.6160443749647101,\n        \"min\": -0.8825704882818007,\n        \"max\": 1.4086428214101598,\n        \"num_unique_values\": 2288,\n        \"samples\": [\n          0.25679098744588263,\n          -0.21701387401262967,\n          -0.4547052506500157\n        ],\n        \"semantic_type\": \"\",\n        \"description\": \"\"\n      }\n    },\n    {\n      \"column\": \"SPY\",\n      \"properties\": {\n        \"dtype\": \"number\",\n        \"std\": 0.6558374451071014,\n        \"min\": -0.8797291801332938,\n        \"max\": 1.6571087023026039,\n        \"num_unique_values\": 2284,\n        \"samples\": [\n          -0.5493639949956496,\n          1.5776059913290383,\n          1.6429267585152354\n        ],\n        \"semantic_type\": \"\",\n        \"description\": \"\"\n      }\n    },\n    {\n      \"column\": \"USO\",\n      \"properties\": {\n        \"dtype\": \"number\",\n        \"std\": 0.9051259030158658,\n        \"min\": -2.434622778541235,\n        \"max\": 2.1112014414736944,\n        \"num_unique_values\": 1547,\n        \"samples\": [\n          0.28635429349950803,\n          -1.0818734931559213,\n          -0.14745395793049823\n        ],\n        \"semantic_type\": \"\",\n        \"description\": \"\"\n      }\n    },\n    {\n      \"column\": \"US10Y\",\n      \"properties\": {\n        \"dtype\": \"number\",\n        \"std\": 0.6021876577247429,\n        \"min\": -1.0168866093807836,\n        \"max\": 1.3519787987377276,\n        \"num_unique_values\": 1681,\n        \"samples\": [\n          0.977308590139712,\n          0.2781002404819402,\n          -0.03430082209746451\n        ],\n        \"semantic_type\": \"\",\n        \"description\": \"\"\n      }\n    },\n    {\n      \"column\": \"VIX\",\n      \"properties\": {\n        \"dtype\": \"number\",\n        \"std\": 0.9128083973859574,\n        \"min\": -0.8950542835167096,\n        \"max\": 7.977082133571019,\n        \"num_unique_values\": 1356,\n        \"samples\": [\n          -0.14475270842387872,\n          1.448733614688381,\n          0.3908323472562131\n        ],\n        \"semantic_type\": \"\",\n        \"description\": \"\"\n      }\n    },\n    {\n      \"column\": \"RSI\",\n      \"properties\": {\n        \"dtype\": \"number\",\n        \"std\": 0.742038568453629,\n        \"min\": -1.8840249635691,\n        \"max\": 2.321701261147456,\n        \"num_unique_values\": 2319,\n        \"samples\": [\n          1.5407380708694463,\n          -1.5355135476824644,\n          -0.47445328730964587\n        ],\n        \"semantic_type\": \"\",\n        \"description\": \"\"\n      }\n    },\n    {\n      \"column\": \"MACD\",\n      \"properties\": {\n        \"dtype\": \"number\",\n        \"std\": 2.3702259406895902,\n        \"min\": -10.053190644712616,\n        \"max\": 11.362781443458314,\n        \"num_unique_values\": 2321,\n        \"samples\": [\n          -4.642379461514952,\n          0.4526797163565198,\n          -0.057885411331514494\n        ],\n        \"semantic_type\": \"\",\n        \"description\": \"\"\n      }\n    },\n    {\n      \"column\": \"Volume_norm\",\n      \"properties\": {\n        \"dtype\": \"number\",\n        \"std\": 0.827561522770955,\n        \"min\": -2.1102022279914885,\n        \"max\": 3.353794043222265,\n        \"num_unique_values\": 2321,\n        \"samples\": [\n          0.8234966607250932,\n          2.5978603363558195,\n          -0.13343494690233512\n        ],\n        \"semantic_type\": \"\",\n        \"description\": \"\"\n      }\n    },\n    {\n      \"column\": \"Earnings\",\n      \"properties\": {\n        \"dtype\": \"number\",\n        \"std\": 0.12527584741044795,\n        \"min\": 0.0,\n        \"max\": 1.0,\n        \"num_unique_values\": 2,\n        \"samples\": [\n          1.0,\n          0.0\n        ],\n        \"semantic_type\": \"\",\n        \"description\": \"\"\n      }\n    },\n    {\n      \"column\": \"ROC\",\n      \"properties\": {\n        \"dtype\": \"number\",\n        \"std\": 0.8996104883742787,\n        \"min\": -3.317220376579896,\n        \"max\": 4.4951473249237255,\n        \"num_unique_values\": 2321,\n        \"samples\": [\n          0.6187595589114584,\n          2.1992078523558507\n        ],\n        \"semantic_type\": \"\",\n        \"description\": \"\"\n      }\n    },\n    {\n      \"column\": \"Stoch_K\",\n      \"properties\": {\n        \"dtype\": \"number\",\n        \"std\": 0.538423867541387,\n        \"min\": -0.9940284935447278,\n        \"max\": 0.7418941097930815,\n        \"num_unique_values\": 2315,\n        \"samples\": [\n          0.33111201661928263,\n          0.690766380793842\n        ],\n        \"semantic_type\": \"\",\n        \"description\": \"\"\n      }\n    },\n    {\n      \"column\": \"Stoch_D\",\n      \"properties\": {\n        \"dtype\": \"number\",\n        \"std\": 0.5350493557568337,\n        \"min\": -1.039747802078502,\n        \"max\": 0.7667731441913691,\n        \"num_unique_values\": 2321,\n        \"samples\": [\n          -0.4375339601447374,\n          0.21365990333925797\n        ],\n        \"semantic_type\": \"\",\n        \"description\": \"\"\n      }\n    },\n    {\n      \"column\": \"rolling_vol\",\n      \"properties\": {\n        \"dtype\": \"number\",\n        \"std\": 0.7612573077125988,\n        \"min\": -0.42127856449602197,\n        \"max\": 3.65609651929185,\n        \"num_unique_values\": 2321,\n        \"samples\": [\n          1.2621005534268115,\n          0.0721882882632093\n        ],\n        \"semantic_type\": \"\",\n        \"description\": \"\"\n      }\n    },\n    {\n      \"column\": \"lag_1\",\n      \"properties\": {\n        \"dtype\": \"number\",\n        \"std\": 1.0155127032109896,\n        \"min\": -5.701514721741831,\n        \"max\": 6.071158451514664,\n        \"num_unique_values\": 2320,\n        \"samples\": [\n          -0.14948280297960984,\n          1.694757790016035\n        ],\n        \"semantic_type\": \"\",\n        \"description\": \"\"\n      }\n    },\n    {\n      \"column\": \"direction\",\n      \"properties\": {\n        \"dtype\": \"float32\",\n        \"num_unique_values\": 2,\n        \"samples\": [\n          1.0,\n          0.0\n        ],\n        \"semantic_type\": \"\",\n        \"description\": \"\"\n      }\n    }\n  ]\n}"
            }
          },
          "metadata": {},
          "execution_count": 17
        }
      ]
    },
    {
      "cell_type": "code",
      "source": [
        "data_final.shape"
      ],
      "metadata": {
        "colab": {
          "base_uri": "https://localhost:8080/"
        },
        "id": "1bolWdKpakdz",
        "outputId": "7e042f25-c167-40a6-9c4f-46d9fc82587d"
      },
      "execution_count": 18,
      "outputs": [
        {
          "output_type": "execute_result",
          "data": {
            "text/plain": [
              "(2321, 16)"
            ]
          },
          "metadata": {},
          "execution_count": 18
        }
      ]
    },
    {
      "cell_type": "markdown",
      "source": [
        "# Split the Data"
      ],
      "metadata": {
        "id": "YUoGuR97z4Ja"
      }
    },
    {
      "cell_type": "code",
      "source": [
        "def data_split_multivariate_return(df, lookback):\n",
        "    \"\"\"\n",
        "    Splits multivariate time series data into training and testing sets for 5-day return prediction.\n",
        "\n",
        "    Args:\n",
        "        df (pd.DataFrame): Feature-enhanced DataFrame with target in the last column.\n",
        "        lookback (int): Number of past time steps to use for prediction.\n",
        "\n",
        "    Returns:\n",
        "        x_train, y_train, x_test, y_test: Torch-ready numpy arrays.\n",
        "    \"\"\"\n",
        "    raw_data = df.to_numpy()\n",
        "    x, y = [], []\n",
        "\n",
        "    for i in range(len(raw_data) - lookback):\n",
        "        x.append(raw_data[i:i+lookback, :-1])\n",
        "        y.append(raw_data[i+lookback-1, -1])\n",
        "\n",
        "    x = np.array(x)\n",
        "    y = np.array(y).reshape(-1, 1)\n",
        "\n",
        "    test_size = int(0.2 * len(x))\n",
        "    x_train, y_train = x[:-test_size], y[:-test_size]\n",
        "    x_test, y_test = x[-test_size:], y[-test_size:]\n",
        "\n",
        "    return x_train, y_train.reshape(-1, 1), x_test, y_test.reshape(-1, 1)"
      ],
      "metadata": {
        "id": "nVkA_Qclm5TS"
      },
      "execution_count": 19,
      "outputs": []
    },
    {
      "cell_type": "code",
      "source": [
        "data_final = data_final.dropna()"
      ],
      "metadata": {
        "id": "QtxEFCtKxvSr"
      },
      "execution_count": 20,
      "outputs": []
    },
    {
      "cell_type": "code",
      "source": [
        "x_train, y_train, x_test, y_test = data_split_multivariate_return(data_final, lookback=20)"
      ],
      "metadata": {
        "id": "57At5UP8nEwg"
      },
      "execution_count": 21,
      "outputs": []
    },
    {
      "cell_type": "code",
      "source": [
        "print(x_train.shape)\n",
        "print(x_test.shape)\n",
        "print(y_train.shape)\n",
        "print(y_test.shape)"
      ],
      "metadata": {
        "colab": {
          "base_uri": "https://localhost:8080/"
        },
        "id": "818L2XtInMt5",
        "outputId": "60ec306d-f6b4-4eb3-a113-55a53079cf4a"
      },
      "execution_count": 22,
      "outputs": [
        {
          "output_type": "stream",
          "name": "stdout",
          "text": [
            "(1841, 20, 15)\n",
            "(460, 20, 15)\n",
            "(1841, 1)\n",
            "(460, 1)\n"
          ]
        }
      ]
    },
    {
      "cell_type": "markdown",
      "source": [
        "#GRU-Based Return Direction Predictive Model"
      ],
      "metadata": {
        "id": "7D51xxIKygtR"
      }
    },
    {
      "cell_type": "code",
      "source": [
        "class GRUClassifier(nn.Module):\n",
        "    def __init__(self, input_size, hidden_size=128, num_layers=2, dropout=0.3):\n",
        "        super(GRUClassifier, self).__init__()\n",
        "        self.gru = nn.GRU(input_size, hidden_size, num_layers, batch_first=True, bidirectional=False)\n",
        "        self.dropout = nn.Dropout(dropout)\n",
        "        self.norm = nn.LayerNorm(hidden_size)\n",
        "        self.fc = nn.Linear(hidden_size, 1)\n",
        "        self.sigmoid = nn.Sigmoid()\n",
        "\n",
        "    def forward(self, x):\n",
        "        h0 = torch.zeros(self.gru.num_layers, x.size(0), self.gru.hidden_size).to(x.device)\n",
        "        out, _ = self.gru(x, h0)\n",
        "        out = self.dropout(out[:, -1, :])\n",
        "        out = self.norm(out)\n",
        "        return self.sigmoid(self.fc(out))"
      ],
      "metadata": {
        "id": "8VmddUF-yTX2"
      },
      "execution_count": null,
      "outputs": []
    },
    {
      "cell_type": "code",
      "source": [
        "from sklearn.metrics import accuracy_score, precision_score, recall_score, f1_score, confusion_matrix\n",
        "import joblib\n",
        "\n",
        "def train_model(model, x_train, y_train, epochs=30, lr=0.00009, model_path=None, verbose=True):\n",
        "    device = torch.device('cuda' if torch.cuda.is_available() else 'cpu')\n",
        "    model = model.to(device)\n",
        "    criterion = nn.BCELoss()\n",
        "    optimizer = torch.optim.Adam(model.parameters(), lr=lr)\n",
        "\n",
        "    model.train()\n",
        "    for epoch in range(epochs):\n",
        "        optimizer.zero_grad()\n",
        "        outputs = model(x_train.to(device)).squeeze()\n",
        "        targets = y_train.to(device).squeeze()\n",
        "        loss = criterion(outputs, targets)\n",
        "        loss.backward()\n",
        "        torch.nn.utils.clip_grad_norm_(model.parameters(), max_norm=1.0)\n",
        "        optimizer.step()\n",
        "\n",
        "        if verbose and (epoch + 1) % 5 == 0:\n",
        "            preds_binary = (outputs.detach().cpu().numpy() >= 0.5).astype(int)\n",
        "            true_binary = y_train.cpu().numpy().astype(int).flatten()\n",
        "            acc = accuracy_score(true_binary, preds_binary)\n",
        "            print(f\"Epoch [{epoch+1}/{epochs}]  Loss: {loss.item():.6f}  Acc: {acc:.4f}\")\n",
        "\n",
        "    # Save model\n",
        "    if model_path:\n",
        "        torch.save(model.state_dict(), model_path)\n",
        "        print(f\"Model saved to {model_path}\")\n",
        "\n",
        "    return model\n",
        ""
      ],
      "metadata": {
        "id": "p6TvNVnAyXVp"
      },
      "execution_count": null,
      "outputs": []
    },
    {
      "cell_type": "code",
      "source": [
        "def evaluate_model(model, x_test, y_test, show_plot=True):\n",
        "    device = torch.device('cuda' if torch.cuda.is_available() else 'cpu')\n",
        "    model = model.to(device)\n",
        "    model.eval()\n",
        "\n",
        "    with torch.no_grad():\n",
        "        outputs = model(x_test.to(device)).squeeze()\n",
        "        predicted_probs = outputs.cpu().numpy()\n",
        "        predicted_labels = (predicted_probs >= 0.5).astype(int)\n",
        "        true_labels = y_test.cpu().numpy().astype(int).flatten()\n",
        "\n",
        "    # Metrics\n",
        "    acc = accuracy_score(true_labels, predicted_labels)\n",
        "    precision = precision_score(true_labels, predicted_labels)\n",
        "    recall = recall_score(true_labels, predicted_labels)\n",
        "    f1 = f1_score(true_labels, predicted_labels)\n",
        "    cm = confusion_matrix(true_labels, predicted_labels)\n",
        "\n",
        "    print(f\"Accuracy:  {acc:.4f}\")\n",
        "    print(f\"Precision: {precision:.4f}\")\n",
        "    print(f\"Recall:    {recall:.4f}\")\n",
        "    print(f\"F1 Score:  {f1:.4f}\")\n",
        "    print(\"Confusion Matrix:\\n\", cm)\n",
        "\n",
        "    if show_plot:\n",
        "      plt.figure(figsize=(14, 6))\n",
        "\n",
        "      plt.plot(predicted_probs, label='Predicted Probability', color='blue', linewidth=2)\n",
        "\n",
        "      for i, val in enumerate(actual):\n",
        "          if val == 1:\n",
        "              plt.axvspan(i - 0.5, i + 0.5, color='orange', alpha=0.3)\n",
        "\n",
        "      plt.title(\"TSLA Direction Prediction\")\n",
        "      plt.xlabel(\"Time Step\")\n",
        "      plt.ylabel(\"Probability / Direction\")\n",
        "      plt.ylim([-0.1, 1.1])\n",
        "      plt.legend(loc=\"upper left\")\n",
        "      plt.grid(True)\n",
        "      plt.tight_layout()\n",
        "      plt.show()\n",
        "\n",
        "    return predicted_probs, true_labels, acc, f1"
      ],
      "metadata": {
        "id": "lrFIFx5fDf7y"
      },
      "execution_count": 25,
      "outputs": []
    },
    {
      "cell_type": "code",
      "source": [
        "# Inference + Signal Classification (Buy Hold Sell)\n",
        "def classify_signals(predicted_returns, buy_threshold=0.002, sell_threshold=-0.002):\n",
        "    signals = []\n",
        "\n",
        "    for r in predicted_returns:\n",
        "        if r > buy_threshold:\n",
        "            signals.append('Buy')\n",
        "        elif r < sell_threshold:\n",
        "            signals.append('Sell')\n",
        "        else:\n",
        "            signals.append('Hold')\n",
        "\n",
        "    return np.array(signals)"
      ],
      "metadata": {
        "id": "_CRvrPkeFrUC"
      },
      "execution_count": null,
      "outputs": []
    },
    {
      "cell_type": "code",
      "source": [
        "# Model Load\n",
        "def load_model(model_class, model_path, input_size, hidden_size, num_layers=2):\n",
        "    model = model_class(input_size=input_size, hidden_size=hidden_size, num_layers=num_layers)\n",
        "    model.load_state_dict(torch.load(model_path))\n",
        "    model.eval()\n",
        "    print(f\"Model loaded from {model_path}\")\n",
        "    return model"
      ],
      "metadata": {
        "id": "kW1TQcATFx80"
      },
      "execution_count": null,
      "outputs": []
    },
    {
      "cell_type": "code",
      "source": [
        "# Initialize model\n",
        "model = GRUClassifier(input_size=x_train.shape[2])"
      ],
      "metadata": {
        "id": "8hpiaX1uDjUa"
      },
      "execution_count": 36,
      "outputs": []
    },
    {
      "cell_type": "code",
      "source": [
        "print(x_train.dtype)\n",
        "print(x_train.shape)\n",
        "print(x_train[0])"
      ],
      "metadata": {
        "colab": {
          "base_uri": "https://localhost:8080/"
        },
        "id": "5Qy1oD793d7i",
        "outputId": "6c5dd334-2976-43df-f484-3dc398e4ffae"
      },
      "execution_count": 40,
      "outputs": [
        {
          "output_type": "stream",
          "name": "stdout",
          "text": [
            "torch.float32\n",
            "torch.Size([1841, 20, 15])\n",
            "tensor([[-0.5135, -0.8555, -0.8499,  0.0322, -0.2327,  0.7069, -1.0509, -0.1607,\n",
            "         -0.0456,  0.0000, -0.6313, -0.7045, -0.7258, -0.3660, -0.7973],\n",
            "        [-0.5130, -0.8454, -0.8279,  0.0159, -0.2612,  0.4391, -0.8362, -0.1608,\n",
            "         -0.1012,  0.0000, -0.6443, -0.5056, -0.6916, -0.3654,  0.1991],\n",
            "        [-0.5112, -0.8440, -0.8283, -0.1894, -0.2427,  0.4125, -1.0899, -0.1688,\n",
            "         -0.3612,  0.0000, -0.1878, -0.7447, -0.6905, -0.3636,  0.1787],\n",
            "        [-0.5156, -0.8548, -0.8449, -0.3360, -0.2966,  0.6538, -1.1919, -0.1778,\n",
            "          0.7585,  0.0000, -0.7960, -0.7371, -0.7020, -0.3623,  0.7737],\n",
            "        [-0.5185, -0.8571, -0.8395, -0.0851, -0.2876,  0.6140, -1.3704, -0.1915,\n",
            "         -0.0823,  0.0000, -1.0490, -0.8794, -0.8338, -0.3596, -1.9687],\n",
            "        [-0.5179, -0.8572, -0.8380, -0.1568, -0.2966,  0.6369, -1.2315, -0.1982,\n",
            "          0.4623,  0.0000, -0.9851, -0.6617, -0.8046, -0.3627, -1.4032],\n",
            "        [-0.5219, -0.8740, -0.8555, -0.2253, -0.3050,  0.8227, -1.1031, -0.1993,\n",
            "         -0.6080,  0.0000, -1.2249, -0.5182, -0.7274, -0.3693,  0.2529],\n",
            "        [-0.5264, -0.8811, -0.8675, -0.3132, -0.3646,  1.1387, -0.6531, -0.1899,\n",
            "          0.8514,  0.0000, -1.7173, -0.1893, -0.4840, -0.3822, -1.9877],\n",
            "        [-0.5263, -0.8826, -0.8675, -0.4631, -0.3678,  1.2039, -1.1687, -0.2020,\n",
            "          1.2762,  0.0000, -1.7685, -0.8580, -0.5532, -0.3822, -2.4518],\n",
            "        [-0.5277, -0.8808, -0.8682, -0.5348, -0.3805,  1.1737, -1.4046, -0.2235,\n",
            "          2.1575,  1.0000, -1.7706, -0.8524, -0.6711, -0.3791,  0.0132],\n",
            "        [-0.5256, -0.8815, -0.8797, -0.5251, -0.4127,  1.3969, -1.2819, -0.2356,\n",
            "          0.1397,  0.0000, -1.4825, -0.6615, -0.8376, -0.3777, -0.8654],\n",
            "        [-0.5254, -0.8745, -0.8617, -0.4143, -0.3578,  1.0663, -1.5575, -0.2619,\n",
            "          2.2623,  0.0000, -1.3207, -0.8346, -0.8294, -0.3695,  1.2394],\n",
            "        [-0.5242, -0.8639, -0.8467, -0.4208, -0.3420,  0.9107, -1.7840, -0.3018,\n",
            "          1.8386,  0.0000, -1.2271, -0.9365, -0.8590, -0.3536,  0.0678],\n",
            "        [-0.5200, -0.8531, -0.8319, -0.2676, -0.3203,  0.6936, -1.7684, -0.3298,\n",
            "          1.4051,  0.0000, -0.8229, -0.8006, -0.9081, -0.3423,  0.7017],\n",
            "        [-0.5206, -0.8587, -0.8357, -0.3067, -0.3520,  0.6128, -1.8321, -0.3553,\n",
            "          1.7440,  0.0000, -1.0457, -0.9240, -0.9396, -0.3329,  2.3086],\n",
            "        [-0.5206, -0.8573, -0.8361, -0.3426, -0.3578,  0.4789, -1.4241, -0.3615,\n",
            "          2.2613,  0.0000, -0.6395, -0.7330, -0.8678, -0.3273, -0.3388],\n",
            "        [-0.5172, -0.8494, -0.8229, -0.2253, -0.3483,  0.3402, -1.3909, -0.3619,\n",
            "          0.4480,  0.0000,  0.0726, -0.6979, -0.8316, -0.3253, -0.0647],\n",
            "        [-0.5173, -0.8575, -0.8346, -0.3654, -0.3594,  0.5332, -1.1494, -0.3524,\n",
            "          0.0272,  0.0000, -0.0145, -0.5753, -0.7086, -0.3260,  1.7686],\n",
            "        [-0.5168, -0.8529, -0.8304, -0.3295, -0.3609,  0.5018, -0.4892, -0.3212,\n",
            "          0.0622,  0.0000,  0.5526, -0.1740, -0.5115, -0.3306, -0.1143],\n",
            "        [-0.5142, -0.8481, -0.8193, -0.2611, -0.3847,  0.3076, -0.5484, -0.2964,\n",
            "         -0.4066,  0.0000,  1.5948, -0.2307, -0.3467, -0.3338,  0.2377]])\n"
          ]
        }
      ]
    },
    {
      "cell_type": "code",
      "source": [
        "# Convert numpy arrays to torch tensors\n",
        "x_train = torch.from_numpy(x_train).float()\n",
        "y_train = torch.from_numpy(y_train).float()\n",
        "x_test = torch.from_numpy(x_test).float()\n",
        "y_test = torch.from_numpy(y_test).float()"
      ],
      "metadata": {
        "id": "2tB24Sa0a6MC"
      },
      "execution_count": 26,
      "outputs": []
    },
    {
      "cell_type": "code",
      "source": [
        "print(\"NaN in y_train:\", torch.isnan(y_train).sum().item())\n",
        "print(\"Inf in y_train:\", torch.isinf(y_train).sum().item())\n",
        "print(\"Min/Max y_train:\", y_train.min().item(), y_train.max().item())"
      ],
      "metadata": {
        "colab": {
          "base_uri": "https://localhost:8080/"
        },
        "id": "jz4phfsRwAx-",
        "outputId": "185caf45-124f-4a1c-bcc1-a096b0729949"
      },
      "execution_count": 32,
      "outputs": [
        {
          "output_type": "stream",
          "name": "stdout",
          "text": [
            "NaN in y_train: 0\n",
            "Inf in y_train: 0\n",
            "Min/Max y_train: -0.43045899271965027 0.5647557973861694\n"
          ]
        }
      ]
    },
    {
      "cell_type": "code",
      "source": [
        "print(\"NaN in x_train:\", torch.isnan(x_train).sum().item())\n",
        "print(\"Inf in x_train:\", torch.isinf(x_train).sum().item())\n",
        "print(\"Max x_train:\", x_train.max().item())\n",
        "print(\"Min x_train:\", x_train.min().item())"
      ],
      "metadata": {
        "colab": {
          "base_uri": "https://localhost:8080/"
        },
        "id": "mG-vchylwOfx",
        "outputId": "e82e53d3-d9cd-49f8-c3c5-c0039e3e72ad"
      },
      "execution_count": 33,
      "outputs": [
        {
          "output_type": "stream",
          "name": "stdout",
          "text": [
            "NaN in x_train: 0\n",
            "Inf in x_train: 0\n",
            "Max x_train: 10.667686462402344\n",
            "Min x_train: -7.152061939239502\n"
          ]
        }
      ]
    },
    {
      "cell_type": "code",
      "source": [
        "# Train\n",
        "model = train_model(model, x_train, y_train, epochs=200, model_path='tsla_gru_return_model.pt')"
      ],
      "metadata": {
        "colab": {
          "base_uri": "https://localhost:8080/"
        },
        "id": "s4pRKFCdDoyz",
        "outputId": "f7180add-f32f-40e5-b740-6b081c9faff1"
      },
      "execution_count": 37,
      "outputs": [
        {
          "output_type": "stream",
          "name": "stdout",
          "text": [
            "Epoch [5/200]  Loss: 0.698702  Acc: 0.5220\n",
            "Epoch [10/200]  Loss: 0.690605  Acc: 0.5535\n",
            "Epoch [15/200]  Loss: 0.686038  Acc: 0.5606\n",
            "Epoch [20/200]  Loss: 0.683522  Acc: 0.5595\n",
            "Epoch [25/200]  Loss: 0.684081  Acc: 0.5568\n",
            "Epoch [30/200]  Loss: 0.674371  Acc: 0.5845\n",
            "Epoch [35/200]  Loss: 0.671630  Acc: 0.5807\n",
            "Epoch [40/200]  Loss: 0.675013  Acc: 0.5747\n",
            "Epoch [45/200]  Loss: 0.673296  Acc: 0.5970\n",
            "Epoch [50/200]  Loss: 0.670899  Acc: 0.5872\n",
            "Epoch [55/200]  Loss: 0.673000  Acc: 0.5834\n",
            "Epoch [60/200]  Loss: 0.672509  Acc: 0.5888\n",
            "Epoch [65/200]  Loss: 0.673373  Acc: 0.5676\n",
            "Epoch [70/200]  Loss: 0.668175  Acc: 0.5850\n",
            "Epoch [75/200]  Loss: 0.666767  Acc: 0.5942\n",
            "Epoch [80/200]  Loss: 0.665977  Acc: 0.5915\n",
            "Epoch [85/200]  Loss: 0.666898  Acc: 0.5915\n",
            "Epoch [90/200]  Loss: 0.669234  Acc: 0.5888\n",
            "Epoch [95/200]  Loss: 0.666931  Acc: 0.5921\n",
            "Epoch [100/200]  Loss: 0.661203  Acc: 0.6002\n",
            "Epoch [105/200]  Loss: 0.662143  Acc: 0.5872\n",
            "Epoch [110/200]  Loss: 0.664920  Acc: 0.5926\n",
            "Epoch [115/200]  Loss: 0.659535  Acc: 0.5964\n",
            "Epoch [120/200]  Loss: 0.660081  Acc: 0.5932\n",
            "Epoch [125/200]  Loss: 0.661616  Acc: 0.5970\n",
            "Epoch [130/200]  Loss: 0.662143  Acc: 0.5975\n",
            "Epoch [135/200]  Loss: 0.658664  Acc: 0.5942\n",
            "Epoch [140/200]  Loss: 0.652900  Acc: 0.6008\n",
            "Epoch [145/200]  Loss: 0.653760  Acc: 0.6024\n",
            "Epoch [150/200]  Loss: 0.650314  Acc: 0.6138\n",
            "Epoch [155/200]  Loss: 0.650702  Acc: 0.5991\n",
            "Epoch [160/200]  Loss: 0.649191  Acc: 0.6122\n",
            "Epoch [165/200]  Loss: 0.649666  Acc: 0.6181\n",
            "Epoch [170/200]  Loss: 0.647637  Acc: 0.6067\n",
            "Epoch [175/200]  Loss: 0.645151  Acc: 0.6187\n",
            "Epoch [180/200]  Loss: 0.648824  Acc: 0.5991\n",
            "Epoch [185/200]  Loss: 0.644637  Acc: 0.6089\n",
            "Epoch [190/200]  Loss: 0.644906  Acc: 0.6127\n",
            "Epoch [195/200]  Loss: 0.637174  Acc: 0.6290\n",
            "Epoch [200/200]  Loss: 0.640444  Acc: 0.6198\n",
            "Model saved to tsla_gru_return_model.pt\n"
          ]
        }
      ]
    },
    {
      "cell_type": "code",
      "source": [
        "# Evaluate\n",
        "predicted, actual, acc, f1 = evaluate_model(model, x_test, y_test)"
      ],
      "metadata": {
        "colab": {
          "base_uri": "https://localhost:8080/",
          "height": 607
        },
        "id": "2kii7BUPDtGV",
        "outputId": "38c730ff-d4a9-47c5-f382-74379fb938d2"
      },
      "execution_count": 38,
      "outputs": [
        {
          "output_type": "stream",
          "name": "stdout",
          "text": [
            "Accuracy:  0.4783\n",
            "Precision: 0.4528\n",
            "Recall:    0.6588\n",
            "F1 Score:  0.5367\n",
            "Confusion Matrix:\n",
            " [[ 81 168]\n",
            " [ 72 139]]\n"
          ]
        },
        {
          "output_type": "display_data",
          "data": {
            "text/plain": [
              "<Figure size 1400x600 with 1 Axes>"
            ],
            "image/png": "[encoded data removed]"
          },
          "metadata": {}
        }
      ]
    },
    {
      "cell_type": "markdown",
      "source": [
        "Negative R-squared means model is worse than simply predicting the mean return for all test samples"
      ],
      "metadata": {
        "id": "Z5tAgcWRJz1y"
      }
    },
    {
      "cell_type": "code",
      "source": [
        "# Generate trading signals\n",
        "signals = classify_signals(predicted.flatten())\n",
        "print(\"Sample signals:\", signals[:10])"
      ],
      "metadata": {
        "colab": {
          "base_uri": "https://localhost:8080/"
        },
        "id": "yn8oQOYlGMJT",
        "outputId": "0b1e0a37-2b69-49db-bd50-c008a6391bb1"
      },
      "execution_count": null,
      "outputs": [
        {
          "output_type": "stream",
          "name": "stdout",
          "text": [
            "Sample signals: ['Sell' 'Buy' 'Buy' 'Buy' 'Buy' 'Buy' 'Buy' 'Buy' 'Buy' 'Sell']\n"
          ]
        }
      ]
    },
    {
      "cell_type": "markdown",
      "source": [
        "#GRU with Attention"
      ],
      "metadata": {
        "id": "QaLyf0C2w0Rk"
      }
    },
    {
      "cell_type": "code",
      "source": [
        "class GRUWithAttentionClassifier(nn.Module):\n",
        "    def __init__(self, input_size, hidden_size=128, num_layers=2, dropout=0.3, bidirectional=False):\n",
        "        super().__init__()\n",
        "        self.hidden_size = hidden_size\n",
        "        self.num_layers = num_layers\n",
        "        self.num_directions = 2 if bidirectional else 1\n",
        "\n",
        "        self.gru = nn.GRU(input_size, hidden_size, num_layers,\n",
        "                          batch_first=True, dropout=dropout if num_layers > 1 else 0,\n",
        "                          bidirectional=bidirectional)\n",
        "\n",
        "        self.attn = nn.Linear(hidden_size * self.num_directions, 1)\n",
        "        self.dropout = nn.Dropout(dropout)\n",
        "        self.norm = nn.LayerNorm(hidden_size * self.num_directions)\n",
        "        self.fc = nn.Linear(hidden_size * self.num_directions, 1)\n",
        "\n",
        "    def forward(self, x):\n",
        "        h0 = torch.zeros(self.num_layers * self.num_directions, x.size(0), self.hidden_size).to(x.device)\n",
        "        out, _ = self.gru(x, h0)\n",
        "\n",
        "        attn_scores = self.attn(out).squeeze(-1)\n",
        "        attn_weights = torch.softmax(attn_scores, dim=1)\n",
        "        context = torch.sum(out * attn_weights.unsqueeze(-1), dim=1)\n",
        "\n",
        "        out = self.dropout(context)\n",
        "        out = self.norm(out)\n",
        "        return self.fc(out)"
      ],
      "metadata": {
        "id": "Te2U70vWKpGB"
      },
      "execution_count": 61,
      "outputs": []
    },
    {
      "cell_type": "code",
      "source": [
        "def train_model(model, x_train, y_train, epochs=100, lr=0.0001, model_path=None, verbose=True):\n",
        "    device = torch.device('cuda' if torch.cuda.is_available() else 'cpu')\n",
        "    model = model.to(device)\n",
        "\n",
        "    # Compute pos_weight for BCEWithLogitsLoss\n",
        "    num_pos = y_train.sum().item()\n",
        "    num_neg = y_train.shape[0] - num_pos\n",
        "    pos_weight = torch.tensor([num_neg / num_pos], dtype=torch.float32).to(device)\n",
        "\n",
        "    criterion = nn.BCEWithLogitsLoss(pos_weight=pos_weight)\n",
        "    optimizer = torch.optim.Adam(model.parameters(), lr=lr)\n",
        "\n",
        "    model.train()\n",
        "    for epoch in range(epochs):\n",
        "        optimizer.zero_grad()\n",
        "        outputs = model(x_train.to(device)).view(-1)\n",
        "        loss = criterion(outputs, y_train.to(device).view(-1))\n",
        "        loss.backward()\n",
        "        torch.nn.utils.clip_grad_norm_(model.parameters(), max_norm=1.0)\n",
        "        optimizer.step()\n",
        "\n",
        "        if verbose and (epoch + 1) % 5 == 0:\n",
        "            probs = torch.sigmoid(outputs).detach().cpu().numpy()\n",
        "            preds = (probs >= 0.5).astype(int)\n",
        "            labels = y_train.cpu().numpy().astype(int).flatten()\n",
        "            acc = accuracy_score(labels, preds)\n",
        "            print(f\"Epoch [{epoch+1}/{epochs}]  Loss: {loss.item():.6f}  Acc: {acc:.4f}\")\n",
        "\n",
        "    # Save model\n",
        "    if model_path:\n",
        "        torch.save(model.state_dict(), model_path)\n",
        "        print(f\"Model saved to {model_path}\")\n",
        "\n",
        "    return model\n",
        "\n",
        "\n",
        "# ----------------------------\n",
        "# Evaluate Model\n",
        "# ----------------------------\n",
        "from sklearn.metrics import precision_score, recall_score, f1_score, confusion_matrix, accuracy_score\n",
        "import matplotlib.pyplot as plt\n",
        "import numpy as np\n",
        "\n",
        "def evaluate_model(model, x_test, y_test, show_plot=True):\n",
        "    device = torch.device('cuda' if torch.cuda.is_available() else 'cpu')\n",
        "    model = model.to(device)\n",
        "    model.eval()\n",
        "\n",
        "    with torch.no_grad():\n",
        "        logits = model(x_test.to(device)).squeeze()\n",
        "        probs = torch.sigmoid(logits)\n",
        "        predicted_probs = probs.cpu().numpy()\n",
        "        predicted_labels = (predicted_probs >= 0.5).astype(int)\n",
        "        true_labels = y_test.cpu().numpy().astype(int).flatten()\n",
        "\n",
        "    acc = accuracy_score(true_labels, predicted_labels)\n",
        "    prec = precision_score(true_labels, predicted_labels)\n",
        "    rec = recall_score(true_labels, predicted_labels)\n",
        "    f1 = f1_score(true_labels, predicted_labels)\n",
        "    cm = confusion_matrix(true_labels, predicted_labels)\n",
        "\n",
        "    print(f\"Accuracy:    {acc:.4f}\")\n",
        "    print(f\"Precision:   {prec:.4f}\")\n",
        "    print(f\"Recall:      {rec:.4f}\")\n",
        "    print(f\"F1 Score:    {f1:.4f}\")\n",
        "    print(\"Confusion Matrix:\\n\", cm)\n",
        "\n",
        "    if show_plot:\n",
        "        plt.figure(figsize=(14, 6))\n",
        "        plt.plot(predicted_probs, label='Predicted Probability', color='blue')\n",
        "        for i, label in enumerate(true_labels):\n",
        "            if label == 1:\n",
        "                plt.axvline(i, color='orange', alpha=0.05)\n",
        "        plt.title('TSLA Direction Prediction')\n",
        "        plt.xlabel('Time Step')\n",
        "        plt.ylabel('Probability / Direction')\n",
        "        plt.legend(loc='upper left')\n",
        "        plt.grid(True)\n",
        "        plt.show()\n",
        "\n",
        "    return predicted_probs, true_labels, acc, f1"
      ],
      "metadata": {
        "id": "B9SES3ReLIzl"
      },
      "execution_count": 66,
      "outputs": []
    },
    {
      "cell_type": "code",
      "source": [
        "# GRU with Attention\n",
        "model = GRUWithAttentionClassifier(\n",
        "    input_size=x_train.shape[2],\n",
        "    hidden_size=256,\n",
        "    num_layers=4,\n",
        "    dropout=0.1,\n",
        "    bidirectional = False\n",
        ")"
      ],
      "metadata": {
        "id": "DJtAlfkRKwv5"
      },
      "execution_count": 76,
      "outputs": []
    },
    {
      "cell_type": "code",
      "source": [
        "model = train_model(model, x_train, y_train, epochs=100, model_path=\"tsla_attention.pt\")"
      ],
      "metadata": {
        "colab": {
          "base_uri": "https://localhost:8080/"
        },
        "id": "XPe3J75QB80-",
        "outputId": "94f45df2-291e-44d0-b335-6d29613c1f01"
      },
      "execution_count": 77,
      "outputs": [
        {
          "output_type": "stream",
          "name": "stdout",
          "text": [
            "Epoch [5/100]  Loss: 0.610256  Acc: 0.5731\n",
            "Epoch [10/100]  Loss: 0.606020  Acc: 0.5399\n",
            "Epoch [15/100]  Loss: 0.600892  Acc: 0.5687\n",
            "Epoch [20/100]  Loss: 0.598628  Acc: 0.5714\n",
            "Epoch [25/100]  Loss: 0.597245  Acc: 0.5589\n",
            "Epoch [30/100]  Loss: 0.597707  Acc: 0.5741\n",
            "Epoch [35/100]  Loss: 0.592576  Acc: 0.5877\n",
            "Epoch [40/100]  Loss: 0.589000  Acc: 0.5932\n",
            "Epoch [45/100]  Loss: 0.591521  Acc: 0.5877\n",
            "Epoch [50/100]  Loss: 0.592735  Acc: 0.5932\n",
            "Epoch [55/100]  Loss: 0.590654  Acc: 0.5980\n",
            "Epoch [60/100]  Loss: 0.586797  Acc: 0.6056\n",
            "Epoch [65/100]  Loss: 0.585181  Acc: 0.6051\n",
            "Epoch [70/100]  Loss: 0.584465  Acc: 0.6018\n",
            "Epoch [75/100]  Loss: 0.583217  Acc: 0.6040\n",
            "Epoch [80/100]  Loss: 0.581305  Acc: 0.5964\n",
            "Epoch [85/100]  Loss: 0.581561  Acc: 0.6024\n",
            "Epoch [90/100]  Loss: 0.579167  Acc: 0.5942\n",
            "Epoch [95/100]  Loss: 0.575580  Acc: 0.6067\n",
            "Epoch [100/100]  Loss: 0.573764  Acc: 0.6062\n",
            "Model saved to tsla_attention.pt\n"
          ]
        }
      ]
    },
    {
      "cell_type": "code",
      "source": [
        "predicted, actual, acc, f1 = evaluate_model(model, x_test, y_test)"
      ],
      "metadata": {
        "colab": {
          "base_uri": "https://localhost:8080/",
          "height": 660
        },
        "id": "xCn1_zCcK0nd",
        "outputId": "83afd416-b087-461d-d643-577d784577aa"
      },
      "execution_count": 78,
      "outputs": [
        {
          "output_type": "stream",
          "name": "stdout",
          "text": [
            "Accuracy:    0.4717\n",
            "Precision:   0.4596\n",
            "Recall:      0.8626\n",
            "F1 Score:    0.5997\n",
            "Confusion Matrix:\n",
            " [[ 35 214]\n",
            " [ 29 182]]\n"
          ]
        },
        {
          "output_type": "display_data",
          "data": {
            "text/plain": [
              "<Figure size 1400x600 with 1 Axes>"
            ],
            "image/png": "[encoded data removed]"
          },
          "metadata": {}
        }
      ]
    },
    {
      "cell_type": "code",
      "source": [
        "model = GRUWithAttentionClassifier(\n",
        "    input_size=x_train.shape[2],\n",
        "    hidden_size=128,\n",
        "    num_layers=3,\n",
        "    dropout=0.05,\n",
        "    bidirectional = False\n",
        ")\n",
        "model = train_model(model, x_train, y_train, epochs=100, model_path=\"tsla_attention.pt\")"
      ],
      "metadata": {
        "colab": {
          "base_uri": "https://localhost:8080/"
        },
        "id": "0cTd2VwEml0W",
        "outputId": "e94ba1d0-2b91-4176-97bb-8ca00c0c6910"
      },
      "execution_count": 103,
      "outputs": [
        {
          "output_type": "stream",
          "name": "stdout",
          "text": [
            "Epoch [5/100]  Loss: 0.613611  Acc: 0.5193\n",
            "Epoch [10/100]  Loss: 0.611972  Acc: 0.4992\n",
            "Epoch [15/100]  Loss: 0.605141  Acc: 0.5595\n",
            "Epoch [20/100]  Loss: 0.604971  Acc: 0.5714\n",
            "Epoch [25/100]  Loss: 0.604649  Acc: 0.5513\n",
            "Epoch [30/100]  Loss: 0.600556  Acc: 0.5617\n",
            "Epoch [35/100]  Loss: 0.598119  Acc: 0.5779\n",
            "Epoch [40/100]  Loss: 0.598172  Acc: 0.5682\n",
            "Epoch [45/100]  Loss: 0.595205  Acc: 0.5600\n",
            "Epoch [50/100]  Loss: 0.595961  Acc: 0.5703\n",
            "Epoch [55/100]  Loss: 0.594540  Acc: 0.5796\n",
            "Epoch [60/100]  Loss: 0.590931  Acc: 0.5807\n",
            "Epoch [65/100]  Loss: 0.591639  Acc: 0.5774\n",
            "Epoch [70/100]  Loss: 0.591556  Acc: 0.5823\n",
            "Epoch [75/100]  Loss: 0.587046  Acc: 0.5817\n",
            "Epoch [80/100]  Loss: 0.589340  Acc: 0.5910\n",
            "Epoch [85/100]  Loss: 0.588645  Acc: 0.5790\n",
            "Epoch [90/100]  Loss: 0.588558  Acc: 0.5828\n",
            "Epoch [95/100]  Loss: 0.586913  Acc: 0.5899\n",
            "Epoch [100/100]  Loss: 0.584257  Acc: 0.6089\n",
            "Model saved to tsla_attention.pt\n"
          ]
        }
      ]
    },
    {
      "cell_type": "code",
      "source": [
        "predicted, actual, acc, f1 = evaluate_model(model, x_test, y_test)"
      ],
      "metadata": {
        "colab": {
          "base_uri": "https://localhost:8080/",
          "height": 660
        },
        "id": "G0NFt1XqmrGe",
        "outputId": "a7534dbc-488e-44a1-d89a-eea257b0c7dc"
      },
      "execution_count": 104,
      "outputs": [
        {
          "output_type": "stream",
          "name": "stdout",
          "text": [
            "Accuracy:    0.5130\n",
            "Precision:   0.4790\n",
            "Recall:      0.7014\n",
            "F1 Score:    0.5692\n",
            "Confusion Matrix:\n",
            " [[ 88 161]\n",
            " [ 63 148]]\n"
          ]
        },
        {
          "output_type": "display_data",
          "data": {
            "text/plain": [
              "<Figure size 1400x600 with 1 Axes>"
            ],
            "image/png": "[encoded data removed]"
          },
          "metadata": {}
        }
      ]
    },
    {
      "cell_type": "markdown",
      "source": [
        "#LSTM-Based Return Prediction Model"
      ],
      "metadata": {
        "id": "rnm20GyFZCTY"
      }
    },
    {
      "cell_type": "code",
      "source": [
        "class LSTMReturnModel(nn.Module):\n",
        "    def __init__(self, input_size, hidden_size=128, num_layers=2, dropout=0.3):\n",
        "        super(LSTMReturnModel, self).__init__()\n",
        "        self.hidden_size = hidden_size\n",
        "        self.num_layers = num_layers\n",
        "\n",
        "        self.lstm = nn.LSTM(\n",
        "            input_size=input_size,\n",
        "            hidden_size=hidden_size,\n",
        "            num_layers=num_layers,\n",
        "            dropout=dropout,\n",
        "            batch_first=True\n",
        "        )\n",
        "        self.fc = nn.Linear(hidden_size, 1)\n",
        "\n",
        "    def forward(self, x):\n",
        "        h0 = torch.zeros(self.num_layers, x.size(0), self.hidden_size).to(x.device)\n",
        "        c0 = torch.zeros(self.num_layers, x.size(0), self.hidden_size).to(x.device)\n",
        "        out, _ = self.lstm(x, (h0, c0))\n",
        "        out = self.fc(out[:, -1, :])  # Use the last output\n",
        "        return out"
      ],
      "metadata": {
        "id": "VQbuTMCgZAod"
      },
      "execution_count": 36,
      "outputs": []
    },
    {
      "cell_type": "code",
      "source": [
        "model = LSTMReturnModel(input_size = x_train.shape[2], hidden_size = 128)\n",
        "model = train_model(model, x_train, y_train, epochs = 200, model_path = 'tsla_lstm_return_model.pt')"
      ],
      "metadata": {
        "colab": {
          "base_uri": "https://localhost:8080/"
        },
        "id": "iU4RJDGYaV2V",
        "outputId": "ff2eadcb-754a-428f-bf15-da87c6b17bd9"
      },
      "execution_count": 37,
      "outputs": [
        {
          "output_type": "stream",
          "name": "stdout",
          "text": [
            "Epoch [5/200]  Loss: 0.616553  Acc: 0.4443\n",
            "Epoch [10/200]  Loss: 0.615982  Acc: 0.4465\n",
            "Epoch [15/200]  Loss: 0.615397  Acc: 0.4617\n",
            "Epoch [20/200]  Loss: 0.614868  Acc: 0.4796\n",
            "Epoch [25/200]  Loss: 0.614417  Acc: 0.5296\n",
            "Epoch [30/200]  Loss: 0.614002  Acc: 0.5573\n",
            "Epoch [35/200]  Loss: 0.613339  Acc: 0.5709\n",
            "Epoch [40/200]  Loss: 0.612622  Acc: 0.5796\n",
            "Epoch [45/200]  Loss: 0.611799  Acc: 0.5807\n",
            "Epoch [50/200]  Loss: 0.610687  Acc: 0.5796\n",
            "Epoch [55/200]  Loss: 0.609372  Acc: 0.5839\n",
            "Epoch [60/200]  Loss: 0.607849  Acc: 0.5877\n",
            "Epoch [65/200]  Loss: 0.606070  Acc: 0.5910\n",
            "Epoch [70/200]  Loss: 0.604423  Acc: 0.5986\n",
            "Epoch [75/200]  Loss: 0.603240  Acc: 0.5839\n",
            "Epoch [80/200]  Loss: 0.601963  Acc: 0.5817\n",
            "Epoch [85/200]  Loss: 0.600838  Acc: 0.5861\n",
            "Epoch [90/200]  Loss: 0.599802  Acc: 0.5839\n",
            "Epoch [95/200]  Loss: 0.598819  Acc: 0.5850\n",
            "Epoch [100/200]  Loss: 0.597994  Acc: 0.5856\n",
            "Epoch [105/200]  Loss: 0.596973  Acc: 0.5915\n",
            "Epoch [110/200]  Loss: 0.595307  Acc: 0.5910\n",
            "Epoch [115/200]  Loss: 0.593678  Acc: 0.5921\n",
            "Epoch [120/200]  Loss: 0.592519  Acc: 0.5926\n",
            "Epoch [125/200]  Loss: 0.589939  Acc: 0.5861\n",
            "Epoch [130/200]  Loss: 0.587745  Acc: 0.5888\n",
            "Epoch [135/200]  Loss: 0.584716  Acc: 0.5807\n",
            "Epoch [140/200]  Loss: 0.580825  Acc: 0.5953\n",
            "Epoch [145/200]  Loss: 0.576363  Acc: 0.6051\n",
            "Epoch [150/200]  Loss: 0.572085  Acc: 0.6138\n",
            "Epoch [155/200]  Loss: 0.568313  Acc: 0.6160\n",
            "Epoch [160/200]  Loss: 0.565219  Acc: 0.6214\n",
            "Epoch [165/200]  Loss: 0.559390  Acc: 0.6301\n",
            "Epoch [170/200]  Loss: 0.557053  Acc: 0.6160\n",
            "Epoch [175/200]  Loss: 0.553717  Acc: 0.6252\n",
            "Epoch [180/200]  Loss: 0.547314  Acc: 0.6279\n",
            "Epoch [185/200]  Loss: 0.543437  Acc: 0.6377\n",
            "Epoch [190/200]  Loss: 0.538342  Acc: 0.6339\n",
            "Epoch [195/200]  Loss: 0.533340  Acc: 0.6475\n",
            "Epoch [200/200]  Loss: 0.530906  Acc: 0.6458\n",
            "Model saved to tsla_lstm_return_model.pt\n"
          ]
        }
      ]
    },
    {
      "cell_type": "code",
      "source": [
        "predicted, actual, acc, f1 = evaluate_model(model, x_test, y_test)"
      ],
      "metadata": {
        "colab": {
          "base_uri": "https://localhost:8080/",
          "height": 660
        },
        "id": "Orb42jT4koI-",
        "outputId": "382f0263-f4a4-4270-e3fa-127e8b0cbdc5"
      },
      "execution_count": 38,
      "outputs": [
        {
          "output_type": "stream",
          "name": "stdout",
          "text": [
            "Accuracy:    0.4565\n",
            "Precision:   0.4428\n",
            "Recall:      0.7156\n",
            "F1 Score:    0.5471\n",
            "Confusion Matrix:\n",
            " [[ 59 190]\n",
            " [ 60 151]]\n"
          ]
        },
        {
          "output_type": "display_data",
          "data": {
            "text/plain": [
              "<Figure size 1400x600 with 1 Axes>"
            ],
            "image/png": "[encoded data removed]"
          },
          "metadata": {}
        }
      ]
    },
    {
      "cell_type": "markdown",
      "source": [
        "# Generate Prediction Table"
      ],
      "metadata": {
        "id": "d_Ro5WCkSN0j"
      }
    },
    {
      "cell_type": "code",
      "source": [
        "features_scaled.head(5)"
      ],
      "metadata": {
        "colab": {
          "base_uri": "https://localhost:8080/",
          "height": 344
        },
        "id": "zkKqT3NYT2hI",
        "outputId": "f64beeaa-9498-4523-acd6-1728d3627dce"
      },
      "execution_count": 41,
      "outputs": [
        {
          "output_type": "execute_result",
          "data": {
            "text/plain": [
              "            Close_TSLA       QQQ       SPY       USO     US10Y       VIX  \\\n",
              "Date                                                                       \n",
              "2016-01-28   -0.513476 -0.855504 -0.849922  0.032179 -0.232718  0.706876   \n",
              "2016-01-29   -0.513012 -0.845355 -0.827936  0.015886 -0.261214  0.439083   \n",
              "2016-02-01   -0.511235 -0.844021 -0.828271 -0.189409 -0.242744  0.412545   \n",
              "2016-02-02   -0.515619 -0.854790 -0.844915 -0.336049 -0.296570  0.653800   \n",
              "2016-02-03   -0.518498 -0.857125 -0.839478 -0.085132 -0.287599  0.613993   \n",
              "\n",
              "                 RSI      MACD  Volume_norm  Earnings       ROC   Stoch_K  \\\n",
              "Date                                                                        \n",
              "2016-01-28 -1.050890 -0.160690    -0.045626       0.0 -0.631304 -0.704526   \n",
              "2016-01-29 -0.836186 -0.160803    -0.101162       0.0 -0.644334 -0.505636   \n",
              "2016-02-01 -1.089873 -0.168772    -0.361190       0.0 -0.187769 -0.744657   \n",
              "2016-02-02 -1.191905 -0.177793     0.758455       0.0 -0.795952 -0.737104   \n",
              "2016-02-03 -1.370351 -0.191531    -0.082303       0.0 -1.049004 -0.879410   \n",
              "\n",
              "             Stoch_D  rolling_vol     lag_1  \n",
              "Date                                         \n",
              "2016-01-28 -0.725806    -0.365953 -0.797269  \n",
              "2016-01-29 -0.691560    -0.365393  0.199113  \n",
              "2016-02-01 -0.690513    -0.363642  0.178672  \n",
              "2016-02-02 -0.702003    -0.362282  0.773687  \n",
              "2016-02-03 -0.833838    -0.359620 -1.968722  "
            ],
            "text/html": [
              "\n",
              "  <div id=\"df-fa2cf571-33c0-4b2b-b16d-a80e75478d6e\" class=\"colab-df-container\">\n",
              "    <div>\n",
              "<style scoped>\n",
              "    .dataframe tbody tr th:only-of-type {\n",
              "        vertical-align: middle;\n",
              "    }\n",
              "\n",
              "    .dataframe tbody tr th {\n",
              "        vertical-align: top;\n",
              "    }\n",
              "\n",
              "    .dataframe thead th {\n",
              "        text-align: right;\n",
              "    }\n",
              "</style>\n",
              "<table border=\"1\" class=\"dataframe\">\n",
              "  <thead>\n",
              "    <tr style=\"text-align: right;\">\n",
              "      <th></th>\n",
              "      <th>Close_TSLA</th>\n",
              "      <th>QQQ</th>\n",
              "      <th>SPY</th>\n",
              "      <th>USO</th>\n",
              "      <th>US10Y</th>\n",
              "      <th>VIX</th>\n",
              "      <th>RSI</th>\n",
              "      <th>MACD</th>\n",
              "      <th>Volume_norm</th>\n",
              "      <th>Earnings</th>\n",
              "      <th>ROC</th>\n",
              "      <th>Stoch_K</th>\n",
              "      <th>Stoch_D</th>\n",
              "      <th>rolling_vol</th>\n",
              "      <th>lag_1</th>\n",
              "    </tr>\n",
              "    <tr>\n",
              "      <th>Date</th>\n",
              "      <th></th>\n",
              "      <th></th>\n",
              "      <th></th>\n",
              "      <th></th>\n",
              "      <th></th>\n",
              "      <th></th>\n",
              "      <th></th>\n",
              "      <th></th>\n",
              "      <th></th>\n",
              "      <th></th>\n",
              "      <th></th>\n",
              "      <th></th>\n",
              "      <th></th>\n",
              "      <th></th>\n",
              "      <th></th>\n",
              "    </tr>\n",
              "  </thead>\n",
              "  <tbody>\n",
              "    <tr>\n",
              "      <th>2016-01-28</th>\n",
              "      <td>-0.513476</td>\n",
              "      <td>-0.855504</td>\n",
              "      <td>-0.849922</td>\n",
              "      <td>0.032179</td>\n",
              "      <td>-0.232718</td>\n",
              "      <td>0.706876</td>\n",
              "      <td>-1.050890</td>\n",
              "      <td>-0.160690</td>\n",
              "      <td>-0.045626</td>\n",
              "      <td>0.0</td>\n",
              "      <td>-0.631304</td>\n",
              "      <td>-0.704526</td>\n",
              "      <td>-0.725806</td>\n",
              "      <td>-0.365953</td>\n",
              "      <td>-0.797269</td>\n",
              "    </tr>\n",
              "    <tr>\n",
              "      <th>2016-01-29</th>\n",
              "      <td>-0.513012</td>\n",
              "      <td>-0.845355</td>\n",
              "      <td>-0.827936</td>\n",
              "      <td>0.015886</td>\n",
              "      <td>-0.261214</td>\n",
              "      <td>0.439083</td>\n",
              "      <td>-0.836186</td>\n",
              "      <td>-0.160803</td>\n",
              "      <td>-0.101162</td>\n",
              "      <td>0.0</td>\n",
              "      <td>-0.644334</td>\n",
              "      <td>-0.505636</td>\n",
              "      <td>-0.691560</td>\n",
              "      <td>-0.365393</td>\n",
              "      <td>0.199113</td>\n",
              "    </tr>\n",
              "    <tr>\n",
              "      <th>2016-02-01</th>\n",
              "      <td>-0.511235</td>\n",
              "      <td>-0.844021</td>\n",
              "      <td>-0.828271</td>\n",
              "      <td>-0.189409</td>\n",
              "      <td>-0.242744</td>\n",
              "      <td>0.412545</td>\n",
              "      <td>-1.089873</td>\n",
              "      <td>-0.168772</td>\n",
              "      <td>-0.361190</td>\n",
              "      <td>0.0</td>\n",
              "      <td>-0.187769</td>\n",
              "      <td>-0.744657</td>\n",
              "      <td>-0.690513</td>\n",
              "      <td>-0.363642</td>\n",
              "      <td>0.178672</td>\n",
              "    </tr>\n",
              "    <tr>\n",
              "      <th>2016-02-02</th>\n",
              "      <td>-0.515619</td>\n",
              "      <td>-0.854790</td>\n",
              "      <td>-0.844915</td>\n",
              "      <td>-0.336049</td>\n",
              "      <td>-0.296570</td>\n",
              "      <td>0.653800</td>\n",
              "      <td>-1.191905</td>\n",
              "      <td>-0.177793</td>\n",
              "      <td>0.758455</td>\n",
              "      <td>0.0</td>\n",
              "      <td>-0.795952</td>\n",
              "      <td>-0.737104</td>\n",
              "      <td>-0.702003</td>\n",
              "      <td>-0.362282</td>\n",
              "      <td>0.773687</td>\n",
              "    </tr>\n",
              "    <tr>\n",
              "      <th>2016-02-03</th>\n",
              "      <td>-0.518498</td>\n",
              "      <td>-0.857125</td>\n",
              "      <td>-0.839478</td>\n",
              "      <td>-0.085132</td>\n",
              "      <td>-0.287599</td>\n",
              "      <td>0.613993</td>\n",
              "      <td>-1.370351</td>\n",
              "      <td>-0.191531</td>\n",
              "      <td>-0.082303</td>\n",
              "      <td>0.0</td>\n",
              "      <td>-1.049004</td>\n",
              "      <td>-0.879410</td>\n",
              "      <td>-0.833838</td>\n",
              "      <td>-0.359620</td>\n",
              "      <td>-1.968722</td>\n",
              "    </tr>\n",
              "  </tbody>\n",
              "</table>\n",
              "</div>\n",
              "    <div class=\"colab-df-buttons\">\n",
              "\n",
              "  <div class=\"colab-df-container\">\n",
              "    <button class=\"colab-df-convert\" onclick=\"convertToInteractive('df-fa2cf571-33c0-4b2b-b16d-a80e75478d6e')\"\n",
              "            title=\"Convert this dataframe to an interactive table.\"\n",
              "            style=\"display:none;\">\n",
              "\n",
              "  <svg xmlns=\"http://www.w3.org/2000/svg\" height=\"24px\" viewBox=\"0 -960 960 960\">\n",
              "    <path d=\"M120-120v-720h720v720H120Zm60-500h600v-160H180v160Zm220 220h160v-160H400v160Zm0 220h160v-160H400v160ZM180-400h160v-160H180v160Zm440 0h160v-160H620v160ZM180-180h160v-160H180v160Zm440 0h160v-160H620v160Z\"/>\n",
              "  </svg>\n",
              "    </button>\n",
              "\n",
              "  <style>\n",
              "    .colab-df-container {\n",
              "      display:flex;\n",
              "      gap: 12px;\n",
              "    }\n",
              "\n",
              "    .colab-df-convert {\n",
              "      background-color: #E8F0FE;\n",
              "      border: none;\n",
              "      border-radius: 50%;\n",
              "      cursor: pointer;\n",
              "      display: none;\n",
              "      fill: #1967D2;\n",
              "      height: 32px;\n",
              "      padding: 0 0 0 0;\n",
              "      width: 32px;\n",
              "    }\n",
              "\n",
              "    .colab-df-convert:hover {\n",
              "      background-color: #E2EBFA;\n",
              "      box-shadow: 0px 1px 2px rgba(60, 64, 67, 0.3), 0px 1px 3px 1px rgba(60, 64, 67, 0.15);\n",
              "      fill: #174EA6;\n",
              "    }\n",
              "\n",
              "    .colab-df-buttons div {\n",
              "      margin-bottom: 4px;\n",
              "    }\n",
              "\n",
              "    [theme=dark] .colab-df-convert {\n",
              "      background-color: #3B4455;\n",
              "      fill: #D2E3FC;\n",
              "    }\n",
              "\n",
              "    [theme=dark] .colab-df-convert:hover {\n",
              "      background-color: #434B5C;\n",
              "      box-shadow: 0px 1px 3px 1px rgba(0, 0, 0, 0.15);\n",
              "      filter: drop-shadow(0px 1px 2px rgba(0, 0, 0, 0.3));\n",
              "      fill: #FFFFFF;\n",
              "    }\n",
              "  </style>\n",
              "\n",
              "    <script>\n",
              "      const buttonEl =\n",
              "        document.querySelector('#df-fa2cf571-33c0-4b2b-b16d-a80e75478d6e button.colab-df-convert');\n",
              "      buttonEl.style.display =\n",
              "        google.colab.kernel.accessAllowed ? 'block' : 'none';\n",
              "\n",
              "      async function convertToInteractive(key) {\n",
              "        const element = document.querySelector('#df-fa2cf571-33c0-4b2b-b16d-a80e75478d6e');\n",
              "        const dataTable =\n",
              "          await google.colab.kernel.invokeFunction('convertToInteractive',\n",
              "                                                    [key], {});\n",
              "        if (!dataTable) return;\n",
              "\n",
              "        const docLinkHtml = 'Like what you see? Visit the ' +\n",
              "          '<a target=\"_blank\" href=https://colab.research.google.com/notebooks/data_table.ipynb>data table notebook</a>'\n",
              "          + ' to learn more about interactive tables.';\n",
              "        element.innerHTML = '';\n",
              "        dataTable['output_type'] = 'display_data';\n",
              "        await google.colab.output.renderOutput(dataTable, element);\n",
              "        const docLink = document.createElement('div');\n",
              "        docLink.innerHTML = docLinkHtml;\n",
              "        element.appendChild(docLink);\n",
              "      }\n",
              "    </script>\n",
              "  </div>\n",
              "\n",
              "\n",
              "    <div id=\"df-184a86e2-4c3f-42f0-8e1f-73561f70ea33\">\n",
              "      <button class=\"colab-df-quickchart\" onclick=\"quickchart('df-184a86e2-4c3f-42f0-8e1f-73561f70ea33')\"\n",
              "                title=\"Suggest charts\"\n",
              "                style=\"display:none;\">\n",
              "\n",
              "<svg xmlns=\"http://www.w3.org/2000/svg\" height=\"24px\"viewBox=\"0 0 24 24\"\n",
              "     width=\"24px\">\n",
              "    <g>\n",
              "        <path d=\"M19 3H5c-1.1 0-2 .9-2 2v14c0 1.1.9 2 2 2h14c1.1 0 2-.9 2-2V5c0-1.1-.9-2-2-2zM9 17H7v-7h2v7zm4 0h-2V7h2v10zm4 0h-2v-4h2v4z\"/>\n",
              "    </g>\n",
              "</svg>\n",
              "      </button>\n",
              "\n",
              "<style>\n",
              "  .colab-df-quickchart {\n",
              "      --bg-color: #E8F0FE;\n",
              "      --fill-color: #1967D2;\n",
              "      --hover-bg-color: #E2EBFA;\n",
              "      --hover-fill-color: #174EA6;\n",
              "      --disabled-fill-color: #AAA;\n",
              "      --disabled-bg-color: #DDD;\n",
              "  }\n",
              "\n",
              "  [theme=dark] .colab-df-quickchart {\n",
              "      --bg-color: #3B4455;\n",
              "      --fill-color: #D2E3FC;\n",
              "      --hover-bg-color: #434B5C;\n",
              "      --hover-fill-color: #FFFFFF;\n",
              "      --disabled-bg-color: #3B4455;\n",
              "      --disabled-fill-color: #666;\n",
              "  }\n",
              "\n",
              "  .colab-df-quickchart {\n",
              "    background-color: var(--bg-color);\n",
              "    border: none;\n",
              "    border-radius: 50%;\n",
              "    cursor: pointer;\n",
              "    display: none;\n",
              "    fill: var(--fill-color);\n",
              "    height: 32px;\n",
              "    padding: 0;\n",
              "    width: 32px;\n",
              "  }\n",
              "\n",
              "  .colab-df-quickchart:hover {\n",
              "    background-color: var(--hover-bg-color);\n",
              "    box-shadow: 0 1px 2px rgba(60, 64, 67, 0.3), 0 1px 3px 1px rgba(60, 64, 67, 0.15);\n",
              "    fill: var(--button-hover-fill-color);\n",
              "  }\n",
              "\n",
              "  .colab-df-quickchart-complete:disabled,\n",
              "  .colab-df-quickchart-complete:disabled:hover {\n",
              "    background-color: var(--disabled-bg-color);\n",
              "    fill: var(--disabled-fill-color);\n",
              "    box-shadow: none;\n",
              "  }\n",
              "\n",
              "  .colab-df-spinner {\n",
              "    border: 2px solid var(--fill-color);\n",
              "    border-color: transparent;\n",
              "    border-bottom-color: var(--fill-color);\n",
              "    animation:\n",
              "      spin 1s steps(1) infinite;\n",
              "  }\n",
              "\n",
              "  @keyframes spin {\n",
              "    0% {\n",
              "      border-color: transparent;\n",
              "      border-bottom-color: var(--fill-color);\n",
              "      border-left-color: var(--fill-color);\n",
              "    }\n",
              "    20% {\n",
              "      border-color: transparent;\n",
              "      border-left-color: var(--fill-color);\n",
              "      border-top-color: var(--fill-color);\n",
              "    }\n",
              "    30% {\n",
              "      border-color: transparent;\n",
              "      border-left-color: var(--fill-color);\n",
              "      border-top-color: var(--fill-color);\n",
              "      border-right-color: var(--fill-color);\n",
              "    }\n",
              "    40% {\n",
              "      border-color: transparent;\n",
              "      border-right-color: var(--fill-color);\n",
              "      border-top-color: var(--fill-color);\n",
              "    }\n",
              "    60% {\n",
              "      border-color: transparent;\n",
              "      border-right-color: var(--fill-color);\n",
              "    }\n",
              "    80% {\n",
              "      border-color: transparent;\n",
              "      border-right-color: var(--fill-color);\n",
              "      border-bottom-color: var(--fill-color);\n",
              "    }\n",
              "    90% {\n",
              "      border-color: transparent;\n",
              "      border-bottom-color: var(--fill-color);\n",
              "    }\n",
              "  }\n",
              "</style>\n",
              "\n",
              "      <script>\n",
              "        async function quickchart(key) {\n",
              "          const quickchartButtonEl =\n",
              "            document.querySelector('#' + key + ' button');\n",
              "          quickchartButtonEl.disabled = true;  // To prevent multiple clicks.\n",
              "          quickchartButtonEl.classList.add('colab-df-spinner');\n",
              "          try {\n",
              "            const charts = await google.colab.kernel.invokeFunction(\n",
              "                'suggestCharts', [key], {});\n",
              "          } catch (error) {\n",
              "            console.error('Error during call to suggestCharts:', error);\n",
              "          }\n",
              "          quickchartButtonEl.classList.remove('colab-df-spinner');\n",
              "          quickchartButtonEl.classList.add('colab-df-quickchart-complete');\n",
              "        }\n",
              "        (() => {\n",
              "          let quickchartButtonEl =\n",
              "            document.querySelector('#df-184a86e2-4c3f-42f0-8e1f-73561f70ea33 button');\n",
              "          quickchartButtonEl.style.display =\n",
              "            google.colab.kernel.accessAllowed ? 'block' : 'none';\n",
              "        })();\n",
              "      </script>\n",
              "    </div>\n",
              "\n",
              "    </div>\n",
              "  </div>\n"
            ],
            "application/vnd.google.colaboratory.intrinsic+json": {
              "type": "dataframe",
              "variable_name": "features_scaled",
              "summary": "{\n  \"name\": \"features_scaled\",\n  \"rows\": 2321,\n  \"fields\": [\n    {\n      \"column\": \"Date\",\n      \"properties\": {\n        \"dtype\": \"date\",\n        \"min\": \"2016-01-28 00:00:00\",\n        \"max\": \"2025-04-22 00:00:00\",\n        \"num_unique_values\": 2321,\n        \"samples\": [\n          \"2022-11-01 00:00:00\",\n          \"2020-11-25 00:00:00\",\n          \"2016-06-21 00:00:00\"\n        ],\n        \"semantic_type\": \"\",\n        \"description\": \"\"\n      }\n    },\n    {\n      \"column\": \"Close_TSLA\",\n      \"properties\": {\n        \"dtype\": \"number\",\n        \"std\": 0.5512948682445487,\n        \"min\": -0.5277263438450227,\n        \"max\": 1.6561510091900487,\n        \"num_unique_values\": 2280,\n        \"samples\": [\n          -0.49389499680956633,\n          0.5880395348589411,\n          1.0465490478215544\n        ],\n        \"semantic_type\": \"\",\n        \"description\": \"\"\n      }\n    },\n    {\n      \"column\": \"QQQ\",\n      \"properties\": {\n        \"dtype\": \"number\",\n        \"std\": 0.6160447559159126,\n        \"min\": -0.882570921436113,\n        \"max\": 1.4086438550438742,\n        \"num_unique_values\": 2288,\n        \"samples\": [\n          0.25679083588279034,\n          -0.21701393135387345,\n          -0.45470545611586916\n        ],\n        \"semantic_type\": \"\",\n        \"description\": \"\"\n      }\n    },\n    {\n      \"column\": \"SPY\",\n      \"properties\": {\n        \"dtype\": \"number\",\n        \"std\": 0.6558373918188688,\n        \"min\": -0.8797287647728214,\n        \"max\": 1.6571089017285148,\n        \"num_unique_values\": 2284,\n        \"samples\": [\n          -0.5493636077557211,\n          1.5776061975221862,\n          1.642926959148307\n        ],\n        \"semantic_type\": \"\",\n        \"description\": \"\"\n      }\n    },\n    {\n      \"column\": \"USO\",\n      \"properties\": {\n        \"dtype\": \"number\",\n        \"std\": 0.9051259030158658,\n        \"min\": -2.434622778541235,\n        \"max\": 2.1112014414736944,\n        \"num_unique_values\": 1547,\n        \"samples\": [\n          0.28635429349950803,\n          -1.0818734931559213,\n          -0.14745395793049823\n        ],\n        \"semantic_type\": \"\",\n        \"description\": \"\"\n      }\n    },\n    {\n      \"column\": \"US10Y\",\n      \"properties\": {\n        \"dtype\": \"number\",\n        \"std\": 0.6021876577247429,\n        \"min\": -1.0168866093807836,\n        \"max\": 1.3519787987377276,\n        \"num_unique_values\": 1681,\n        \"samples\": [\n          0.977308590139712,\n          0.2781002404819402,\n          -0.03430082209746451\n        ],\n        \"semantic_type\": \"\",\n        \"description\": \"\"\n      }\n    },\n    {\n      \"column\": \"VIX\",\n      \"properties\": {\n        \"dtype\": \"number\",\n        \"std\": 0.9128083973859574,\n        \"min\": -0.8950542835167096,\n        \"max\": 7.977082133571019,\n        \"num_unique_values\": 1356,\n        \"samples\": [\n          -0.14475270842387872,\n          1.448733614688381,\n          0.3908323472562131\n        ],\n        \"semantic_type\": \"\",\n        \"description\": \"\"\n      }\n    },\n    {\n      \"column\": \"RSI\",\n      \"properties\": {\n        \"dtype\": \"number\",\n        \"std\": 0.742038568453629,\n        \"min\": -1.8840249635691,\n        \"max\": 2.321701261147456,\n        \"num_unique_values\": 2319,\n        \"samples\": [\n          1.5407380708694463,\n          -1.5355135476824644,\n          -0.47445328730964587\n        ],\n        \"semantic_type\": \"\",\n        \"description\": \"\"\n      }\n    },\n    {\n      \"column\": \"MACD\",\n      \"properties\": {\n        \"dtype\": \"number\",\n        \"std\": 2.3702259406895902,\n        \"min\": -10.053190644712616,\n        \"max\": 11.362781443458314,\n        \"num_unique_values\": 2321,\n        \"samples\": [\n          -4.642379461514952,\n          0.4526797163565198,\n          -0.057885411331514494\n        ],\n        \"semantic_type\": \"\",\n        \"description\": \"\"\n      }\n    },\n    {\n      \"column\": \"Volume_norm\",\n      \"properties\": {\n        \"dtype\": \"number\",\n        \"std\": 0.827561522770955,\n        \"min\": -2.1102022279914885,\n        \"max\": 3.353794043222265,\n        \"num_unique_values\": 2321,\n        \"samples\": [\n          0.8234966607250932,\n          2.5978603363558195,\n          -0.13343494690233512\n        ],\n        \"semantic_type\": \"\",\n        \"description\": \"\"\n      }\n    },\n    {\n      \"column\": \"Earnings\",\n      \"properties\": {\n        \"dtype\": \"number\",\n        \"std\": 0.12527584741044795,\n        \"min\": 0.0,\n        \"max\": 1.0,\n        \"num_unique_values\": 2,\n        \"samples\": [\n          1.0,\n          0.0\n        ],\n        \"semantic_type\": \"\",\n        \"description\": \"\"\n      }\n    },\n    {\n      \"column\": \"ROC\",\n      \"properties\": {\n        \"dtype\": \"number\",\n        \"std\": 0.8996104883742787,\n        \"min\": -3.317220376579896,\n        \"max\": 4.4951473249237255,\n        \"num_unique_values\": 2321,\n        \"samples\": [\n          0.6187595589114584,\n          2.1992078523558507\n        ],\n        \"semantic_type\": \"\",\n        \"description\": \"\"\n      }\n    },\n    {\n      \"column\": \"Stoch_K\",\n      \"properties\": {\n        \"dtype\": \"number\",\n        \"std\": 0.538423867541387,\n        \"min\": -0.9940284935447278,\n        \"max\": 0.7418941097930815,\n        \"num_unique_values\": 2315,\n        \"samples\": [\n          0.33111201661928263,\n          0.690766380793842\n        ],\n        \"semantic_type\": \"\",\n        \"description\": \"\"\n      }\n    },\n    {\n      \"column\": \"Stoch_D\",\n      \"properties\": {\n        \"dtype\": \"number\",\n        \"std\": 0.5350493557568337,\n        \"min\": -1.039747802078502,\n        \"max\": 0.7667731441913691,\n        \"num_unique_values\": 2321,\n        \"samples\": [\n          -0.4375339601447374,\n          0.21365990333925797\n        ],\n        \"semantic_type\": \"\",\n        \"description\": \"\"\n      }\n    },\n    {\n      \"column\": \"rolling_vol\",\n      \"properties\": {\n        \"dtype\": \"number\",\n        \"std\": 0.7612573077125988,\n        \"min\": -0.42127856449602197,\n        \"max\": 3.65609651929185,\n        \"num_unique_values\": 2321,\n        \"samples\": [\n          1.2621005534268115,\n          0.0721882882632093\n        ],\n        \"semantic_type\": \"\",\n        \"description\": \"\"\n      }\n    },\n    {\n      \"column\": \"lag_1\",\n      \"properties\": {\n        \"dtype\": \"number\",\n        \"std\": 1.0155127032109896,\n        \"min\": -5.701514721741831,\n        \"max\": 6.071158451514664,\n        \"num_unique_values\": 2320,\n        \"samples\": [\n          -0.14948280297960984,\n          1.694757790016035\n        ],\n        \"semantic_type\": \"\",\n        \"description\": \"\"\n      }\n    }\n  ]\n}"
            }
          },
          "metadata": {},
          "execution_count": 41
        }
      ]
    },
    {
      "cell_type": "code",
      "source": [
        "x_all = torch.tensor(features_scaled.values, dtype=torch.float32)"
      ],
      "metadata": {
        "id": "iwKMTHbWUx6m"
      },
      "execution_count": 44,
      "outputs": []
    },
    {
      "cell_type": "code",
      "source": [
        "x_all.shape"
      ],
      "metadata": {
        "colab": {
          "base_uri": "https://localhost:8080/"
        },
        "id": "wkwPSPgmU9fQ",
        "outputId": "a3c91d5f-1cc9-49c8-80a3-ea28ec1b6267"
      },
      "execution_count": 45,
      "outputs": [
        {
          "output_type": "execute_result",
          "data": {
            "text/plain": [
              "torch.Size([2321, 15])"
            ]
          },
          "metadata": {},
          "execution_count": 45
        }
      ]
    },
    {
      "cell_type": "code",
      "source": [
        "# Load model\n",
        "model = GRUWithAttentionClassifier(input_size=x_all.shape[1], hidden_size=128, num_layers=2)\n",
        "model.load_state_dict(torch.load('tsla_attention.pt'))\n",
        "model.eval()"
      ],
      "metadata": {
        "colab": {
          "base_uri": "https://localhost:8080/"
        },
        "id": "REa3HOnHVdmx",
        "outputId": "c68b44ee-317c-4c22-8566-c796755ce138"
      },
      "execution_count": 51,
      "outputs": [
        {
          "output_type": "execute_result",
          "data": {
            "text/plain": [
              "GRUWithAttentionClassifier(\n",
              "  (gru): GRU(15, 128, num_layers=2, batch_first=True, dropout=0.3)\n",
              "  (attn): Linear(in_features=128, out_features=1, bias=True)\n",
              "  (dropout): Dropout(p=0.3, inplace=False)\n",
              "  (norm): LayerNorm((128,), eps=1e-05, elementwise_affine=True)\n",
              "  (fc): Linear(in_features=128, out_features=1, bias=True)\n",
              ")"
            ]
          },
          "metadata": {},
          "execution_count": 51
        }
      ]
    },
    {
      "cell_type": "code",
      "source": [
        "lookback = 20  # set to whatever was used during training\n",
        "x_seq_all = []\n",
        "for i in range(lookback, len(x_all)):\n",
        "    x_seq_all.append(x_all[i - lookback:i].unsqueeze(0))\n",
        "\n",
        "x_seq_all = torch.cat(x_seq_all, dim=0)"
      ],
      "metadata": {
        "id": "CaFsBsXmfSKP"
      },
      "execution_count": 57,
      "outputs": []
    },
    {
      "cell_type": "code",
      "source": [
        "x_all.shape"
      ],
      "metadata": {
        "colab": {
          "base_uri": "https://localhost:8080/"
        },
        "id": "XI-jJBcCjcsK",
        "outputId": "4b09b904-f2b3-4049-9e16-2b9eb84ffa30"
      },
      "execution_count": 65,
      "outputs": [
        {
          "output_type": "execute_result",
          "data": {
            "text/plain": [
              "torch.Size([2321, 15])"
            ]
          },
          "metadata": {},
          "execution_count": 65
        }
      ]
    },
    {
      "cell_type": "code",
      "source": [
        "x_seq_all.shape"
      ],
      "metadata": {
        "colab": {
          "base_uri": "https://localhost:8080/"
        },
        "id": "yN69I0wijZgY",
        "outputId": "dd773560-e076-48e0-9c81-24b755e793ae"
      },
      "execution_count": 63,
      "outputs": [
        {
          "output_type": "execute_result",
          "data": {
            "text/plain": [
              "torch.Size([2301, 20, 15])"
            ]
          },
          "metadata": {},
          "execution_count": 63
        }
      ]
    },
    {
      "cell_type": "code",
      "source": [
        "# Predict\n",
        "with torch.no_grad():\n",
        "    logits = model(x_seq_all)\n",
        "    probs = torch.sigmoid(logits.squeeze()).cpu().numpy()"
      ],
      "metadata": {
        "id": "6zscyq2Wb6KN"
      },
      "execution_count": 58,
      "outputs": []
    },
    {
      "cell_type": "code",
      "source": [
        "dates = data_final.index[lookback:]\n",
        "close_prices = data_final['Close_TSLA'].iloc[lookback:].values\n",
        "true_direction = data_final['direction'].iloc[lookback:].values"
      ],
      "metadata": {
        "id": "jnbXpFMyc9tA"
      },
      "execution_count": 59,
      "outputs": []
    },
    {
      "cell_type": "code",
      "source": [
        "# Create output dataframe\n",
        "output_df = pd.DataFrame({\n",
        "    'Date': dates,\n",
        "    'Close': close_prices,\n",
        "    'Pred_Prob': probs,\n",
        "    'True_Direction': true_direction\n",
        "})"
      ],
      "metadata": {
        "id": "m1xtHp4-cGTq"
      },
      "execution_count": 60,
      "outputs": []
    },
    {
      "cell_type": "code",
      "source": [
        "print(len(dates), len(close_prices), len(probs), len(true_direction))"
      ],
      "metadata": {
        "colab": {
          "base_uri": "https://localhost:8080/"
        },
        "id": "6UZbjwGEgkDk",
        "outputId": "7d1e38e9-87c3-4782-ebdb-6a151de4a318"
      },
      "execution_count": 61,
      "outputs": [
        {
          "output_type": "stream",
          "name": "stdout",
          "text": [
            "2301 2301 2301 2301\n"
          ]
        }
      ]
    },
    {
      "cell_type": "code",
      "source": [
        "# Save to csv\n",
        "output_df.to_csv('data_for_backtest.csv', index=False)"
      ],
      "metadata": {
        "id": "aG_Kqh1AdkbX"
      },
      "execution_count": 62,
      "outputs": []
    },
    {
      "cell_type": "code",
      "source": [
        "output_df = pd.read_csv(\"data_for_backtest.csv\")"
      ],
      "metadata": {
        "id": "Jo2-kP1EZ_uk"
      },
      "execution_count": 3,
      "outputs": []
    },
    {
      "cell_type": "markdown",
      "source": [
        "# Backtesting"
      ],
      "metadata": {
        "id": "Mwvdej_RcdnX"
      }
    },
    {
      "cell_type": "code",
      "source": [
        "from pyspark.sql import SparkSession, Window\n",
        "from pyspark.sql import functions as F\n",
        "from pyspark.sql.functions import col, lag, when, lit, expr, to_date, avg, stddev"
      ],
      "metadata": {
        "id": "Hz53BkSkccrN"
      },
      "execution_count": 52,
      "outputs": []
    },
    {
      "cell_type": "code",
      "source": [
        "# Initialize Spark\n",
        "spark = SparkSession.builder.appName(\"TSLA Alpha Signal Backtest\").getOrCreate()"
      ],
      "metadata": {
        "id": "T3rUeLJodT3a"
      },
      "execution_count": 5,
      "outputs": []
    },
    {
      "cell_type": "code",
      "source": [
        "# Convert to Spark DataFrame\n",
        "spark_df = spark.createDataFrame(output_df)"
      ],
      "metadata": {
        "id": "qL3eg_-ddWEm"
      },
      "execution_count": 6,
      "outputs": []
    },
    {
      "cell_type": "code",
      "source": [
        "# Ensure 'Date' column is datetime\n",
        "spark_df = spark_df.withColumn(\"Date\", F.to_date(\"Date\"))"
      ],
      "metadata": {
        "id": "5QdgTelRdfDK"
      },
      "execution_count": 7,
      "outputs": []
    },
    {
      "cell_type": "code",
      "source": [
        "spark_df.head()"
      ],
      "metadata": {
        "colab": {
          "base_uri": "https://localhost:8080/"
        },
        "id": "rZQr4thOddlr",
        "outputId": "b501c69a-723b-4b71-c971-5a688a5798b7"
      },
      "execution_count": 8,
      "outputs": [
        {
          "output_type": "execute_result",
          "data": {
            "text/plain": [
              "Row(Date=datetime.date(2016, 2, 26), Close=-0.5132780561022977, Pred_Prob=0.61044747, True_Direction=1.0)"
            ]
          },
          "metadata": {},
          "execution_count": 8
        }
      ]
    },
    {
      "cell_type": "code",
      "source": [
        "# Create a window spec for time series ops\n",
        "window = Window.orderBy(\"Date\")"
      ],
      "metadata": {
        "id": "O4NodNG7do13"
      },
      "execution_count": 9,
      "outputs": []
    },
    {
      "cell_type": "code",
      "source": [
        "# Generate signal\n",
        "spark_df = spark_df.withColumn(\n",
        "    \"Signal\",\n",
        "    F.when(F.col(\"Pred_Prob\") > 0.6, F.lit(1))\n",
        "     .when(F.col(\"Pred_Prob\") < 0.4, F.lit(-1))\n",
        "     .otherwise(F.lit(0))\n",
        ")"
      ],
      "metadata": {
        "id": "ZglOMQtZdsMf"
      },
      "execution_count": 18,
      "outputs": []
    },
    {
      "cell_type": "code",
      "source": [
        "# Compute returns and strategy\n",
        "spark_df = spark_df \\\n",
        "    .withColumn(\"Market_Return\", F.col(\"Close\") / F.lag(\"Close\", 1).over(window) - 1) \\\n",
        "    .withColumn(\"Prev_Signal\", F.lag(\"Signal\", 1).over(window)) \\\n",
        "    .withColumn(\"Strategy_Return\", F.col(\"Market_Return\") * F.col(\"Prev_Signal\"))"
      ],
      "metadata": {
        "id": "3aN4DMBtduyx"
      },
      "execution_count": 19,
      "outputs": []
    },
    {
      "cell_type": "code",
      "source": [
        "# Aggregate metrics\n",
        "agg_df = spark_df.agg(\n",
        "    F.avg(\"Strategy_Return\").alias(\"Mean_Return\"),\n",
        "    F.stddev(\"Strategy_Return\").alias(\"Volatility\")\n",
        ")"
      ],
      "metadata": {
        "id": "4RfN0VUDdyh1"
      },
      "execution_count": 20,
      "outputs": []
    },
    {
      "cell_type": "code",
      "source": [
        "# Collect metrics\n",
        "metrics = agg_df.collect()[0]\n",
        "mean_return = metrics['Mean_Return']\n",
        "volatility = metrics['Volatility']\n",
        "sharpe_ratio = (mean_return / volatility) * (252**0.5) if volatility else None\n",
        "\n",
        "print(f\"Sharpe Ratio: {sharpe_ratio:.2f}\")\n",
        "print(f\"Mean Return: {mean_return:.5f}\")\n",
        "print(f\"Volatility: {volatility:.5f}\")"
      ],
      "metadata": {
        "colab": {
          "base_uri": "https://localhost:8080/"
        },
        "id": "1qhhg4d2d3V-",
        "outputId": "bdb94467-9ec4-4a3e-d244-9a43a04fcb61"
      },
      "execution_count": 21,
      "outputs": [
        {
          "output_type": "stream",
          "name": "stdout",
          "text": [
            "Sharpe Ratio: 0.33\n",
            "Mean Return: 0.16181\n",
            "Volatility: 7.86771\n"
          ]
        }
      ]
    },
    {
      "cell_type": "markdown",
      "source": [
        "Needs tuning for better metric"
      ],
      "metadata": {
        "id": "xbbOGfyBjnUy"
      }
    },
    {
      "cell_type": "code",
      "source": [
        "# Extract predicted probabilities and true labels\n",
        "probs = output_df['Pred_Prob'].values\n",
        "true_labels = output_df['True_Direction'].values"
      ],
      "metadata": {
        "id": "6_AEx63njf2u"
      },
      "execution_count": 23,
      "outputs": []
    },
    {
      "cell_type": "code",
      "source": [
        "from sklearn.linear_model import LogisticRegression\n",
        "from sklearn.isotonic import IsotonicRegression\n",
        "from sklearn.calibration import calibration_curve"
      ],
      "metadata": {
        "id": "wdMsj5B3j1wP"
      },
      "execution_count": 22,
      "outputs": []
    },
    {
      "cell_type": "code",
      "source": [
        "# Apply Platt Scaling\n",
        "platt_model = LogisticRegression()\n",
        "platt_model.fit(probs.reshape(-1, 1), true_labels)\n",
        "probs_platt = platt_model.predict_proba(probs.reshape(-1, 1))[:, 1]"
      ],
      "metadata": {
        "id": "-zkx44_Qjtpt"
      },
      "execution_count": 24,
      "outputs": []
    },
    {
      "cell_type": "code",
      "source": [
        "# Apply Isotonic Regression\n",
        "iso_model = IsotonicRegression(out_of_bounds='clip')\n",
        "iso_model.fit(probs, true_labels)\n",
        "probs_iso = iso_model.predict(probs)"
      ],
      "metadata": {
        "id": "nmyUjL5Mj5Jv"
      },
      "execution_count": 25,
      "outputs": []
    },
    {
      "cell_type": "code",
      "source": [
        "# Calibration curves\n",
        "prob_true_orig, prob_pred_orig = calibration_curve(true_labels, probs, n_bins=10)\n",
        "prob_true_platt, prob_pred_platt = calibration_curve(true_labels, probs_platt, n_bins=10)\n",
        "prob_true_iso, prob_pred_iso = calibration_curve(true_labels, probs_iso, n_bins=10)"
      ],
      "metadata": {
        "id": "N_voYZghj7GG"
      },
      "execution_count": 26,
      "outputs": []
    },
    {
      "cell_type": "code",
      "source": [
        "# Plot\n",
        "plt.figure(figsize=(8, 6))\n",
        "plt.plot(prob_pred_orig, prob_true_orig, marker='o', label='Original')\n",
        "plt.plot(prob_pred_platt, prob_true_platt, marker='o', label='Platt Scaling')\n",
        "plt.plot(prob_pred_iso, prob_true_iso, marker='o', label='Isotonic Regression')\n",
        "plt.plot([0, 1], [0, 1], 'k--', label='Perfectly Calibrated')\n",
        "plt.xlabel('Mean Predicted Probability')\n",
        "plt.ylabel('Fraction of Positives')\n",
        "plt.title('Calibration Curve')\n",
        "plt.legend()\n",
        "plt.grid(True)\n",
        "plt.tight_layout()\n",
        "plt.show()"
      ],
      "metadata": {
        "colab": {
          "base_uri": "https://localhost:8080/",
          "height": 607
        },
        "id": "OPACxxUAkLR6",
        "outputId": "e0909b66-46a9-4acc-ba3a-997dc293f9d0"
      },
      "execution_count": 27,
      "outputs": [
        {
          "output_type": "display_data",
          "data": {
            "text/plain": [
              "<Figure size 800x600 with 1 Axes>"
            ],
            "image/png": "[encoded data removed]"
          },
          "metadata": {}
        }
      ]
    },
    {
      "cell_type": "code",
      "source": [
        "# Fit isotonic regression on original predicted probabilities and true labels\n",
        "iso_model.fit(output_df[\"Pred_Prob\"], output_df[\"True_Direction\"])\n",
        "\n",
        "# Generate calibrated probabilities\n",
        "output_df[\"Pred_Prob_Calibrated\"] = iso_model.predict(output_df[\"Pred_Prob\"])\n",
        "\n",
        "# Save the calibrated dataset\n",
        "output_df.to_csv(\"backtest_calibrated.csv\", index=False)"
      ],
      "metadata": {
        "id": "GxcFrYJik4N3"
      },
      "execution_count": 28,
      "outputs": []
    },
    {
      "cell_type": "code",
      "source": [
        "# Initialize Spark session\n",
        "spark = SparkSession.builder.appName(\"TSLA_Backtest_Calibrated\").getOrCreate()\n",
        "\n",
        "# Load calibrated CSV\n",
        "df_calibrated = pd.read_csv(\"backtest_calibrated.csv\")\n",
        "df_spark = spark.createDataFrame(df_calibrated)\n",
        "\n",
        "# Add trading signal: long if Calibrated_Prob > 0.5, else short\n",
        "df_spark = df_spark.withColumn(\"Position\", when(col(\"Pred_Prob_Calibrated\") > 0.5, lit(1)).otherwise(lit(-1)))\n",
        "\n",
        "# Add lagged close price\n",
        "window_spec = Window.orderBy(\"Date\")\n",
        "df_spark = df_spark.withColumn(\"Prev_Close\", lag(\"Close\").over(window_spec))\n",
        "\n",
        "# Calculate returns and strategy returns\n",
        "df_spark = df_spark.withColumn(\"Return\", (col(\"Close\") - col(\"Prev_Close\")) / col(\"Prev_Close\"))\n",
        "df_spark = df_spark.withColumn(\"Strategy_Return\", col(\"Return\") * col(\"Position\"))\n",
        "\n",
        "# Convert to Pandas\n",
        "df_result = df_spark.dropna().toPandas()\n",
        "\n",
        "# Evaluate performance\n",
        "mean_return = df_result[\"Strategy_Return\"].mean()\n",
        "volatility = df_result[\"Strategy_Return\"].std()\n",
        "sharpe_ratio = mean_return / volatility if volatility != 0 else np.nan\n",
        "\n",
        "# Print results\n",
        "print(f\"Sharpe Ratio: {sharpe_ratio:.2f}\")\n",
        "print(f\"Mean Return: {mean_return:.5f}\")\n",
        "print(f\"Volatility: {volatility:.5f}\")"
      ],
      "metadata": {
        "colab": {
          "base_uri": "https://localhost:8080/"
        },
        "id": "XcyTPHUlpKW-",
        "outputId": "2e5a6249-d172-428d-a22c-d598028c0cfa"
      },
      "execution_count": 33,
      "outputs": [
        {
          "output_type": "stream",
          "name": "stdout",
          "text": [
            "Sharpe Ratio: 0.03\n",
            "Mean Return: 0.25445\n",
            "Volatility: 8.91649\n"
          ]
        }
      ]
    },
    {
      "cell_type": "code",
      "source": [
        "output_df[\"Date\"] = pd.to_datetime(output_df[\"Date\"])\n",
        "\n",
        "# Grid search to optimize Sharpe ratio\n",
        "best_sharpe = -np.inf\n",
        "best_thresh_up = None\n",
        "best_thresh_down = None\n",
        "best_result = None\n",
        "\n",
        "for thresh_up in np.arange(0.50, 0.70, 0.01):\n",
        "    for thresh_down in np.arange(0.30, 0.50, 0.01):\n",
        "        if thresh_down >= thresh_up:\n",
        "            continue\n",
        "        output_df[\"Position\"] = 0\n",
        "        output_df.loc[output_df[\"Pred_Prob_Calibrated\"] > thresh_up, \"Position\"] = 1\n",
        "        output_df.loc[output_df[\"Pred_Prob_Calibrated\"] < thresh_down, \"Position\"] = -1\n",
        "\n",
        "        output_df[\"Daily_Return\"] = output_df[\"Position\"].shift(1) * output_df[\"Close\"].diff()\n",
        "        output_df.dropna(inplace=True)\n",
        "\n",
        "        mean_return = output_df[\"Daily_Return\"].mean()\n",
        "        volatility = output_df[\"Daily_Return\"].std()\n",
        "        sharpe_ratio = mean_return / volatility if volatility != 0 else 0\n",
        "\n",
        "        if sharpe_ratio > best_sharpe:\n",
        "            best_sharpe = sharpe_ratio\n",
        "            best_thresh_up = thresh_up\n",
        "            best_thresh_down = thresh_down\n",
        "            best_result = (mean_return, volatility, sharpe_ratio)\n",
        "\n",
        "# Plot distribution\n",
        "plt.figure(figsize=(10, 4))\n",
        "sns.histplot(output_df[\"Daily_Return\"], kde=True, bins=50, color='navy')\n",
        "plt.title(f\"Distribution of Daily Returns (Sharpe={best_sharpe:.2f})\")\n",
        "plt.xlabel(\"Daily Return\")\n",
        "plt.ylabel(\"Frequency\")\n",
        "plt.grid(True)\n",
        "plt.tight_layout()\n",
        "plt.show()"
      ],
      "metadata": {
        "colab": {
          "base_uri": "https://localhost:8080/",
          "height": 407
        },
        "id": "XNCZcymqBRj_",
        "outputId": "80c15c43-408d-4658-ccda-4dc207133fa2"
      },
      "execution_count": 48,
      "outputs": [
        {
          "output_type": "display_data",
          "data": {
            "text/plain": [
              "<Figure size 1000x400 with 1 Axes>"
            ],
            "image/png": "[encoded data removed]"
          },
          "metadata": {}
        }
      ]
    },
    {
      "cell_type": "code",
      "source": [
        "# Report best thresholds and performance\n",
        "print(f\"Best Sharpe Ratio: {best_sharpe:.2f}\")\n",
        "print(f\"Thresholds: Buy if > {best_thresh_up}, Sell if < {best_thresh_down}\")\n",
        "print(f\"Mean Return: {best_result[0]:.5f}\")\n",
        "print(f\"Volatility: {best_result[1]:.5f}\")"
      ],
      "metadata": {
        "colab": {
          "base_uri": "https://localhost:8080/"
        },
        "id": "XtwWMw9hCGYP",
        "outputId": "a9580296-67b7-4b10-8784-2cec0221b566"
      },
      "execution_count": 49,
      "outputs": [
        {
          "output_type": "stream",
          "name": "stdout",
          "text": [
            "Best Sharpe Ratio: 0.10\n",
            "Thresholds: Buy if > 0.5900000000000001, Sell if < 0.47000000000000014\n",
            "Mean Return: 0.00308\n",
            "Volatility: 0.03130\n"
          ]
        }
      ]
    },
    {
      "cell_type": "markdown",
      "source": [
        "# Optimize Thresholds, additionally"
      ],
      "metadata": {
        "id": "gr1V1c6I0P2x"
      }
    },
    {
      "cell_type": "code",
      "source": [
        "# Start Spark session\n",
        "spark = SparkSession.builder.appName(\"TSLA Alpha Optimization\").getOrCreate()\n",
        "\n",
        "# Load the dataset\n",
        "df = spark.read.csv(\"data_for_backtest.csv\", header=True, inferSchema=True)\n",
        "df = df.withColumn(\"Date\", to_date(\"Date\"))\n",
        "\n",
        "# Define lag window\n",
        "window = Window.orderBy(\"Date\")\n",
        "\n",
        "# Initialize best Sharpe tracker\n",
        "best_sharpe = float(\"-inf\")\n",
        "best_upper = None\n",
        "best_lower = None\n",
        "\n",
        "# Loop through threshold pairs\n",
        "for upper in np.arange(0.5, 0.9, 0.01):\n",
        "    for lower in np.arange(0.1, 0.5, 0.01):\n",
        "        if lower >= upper:\n",
        "            continue\n",
        "\n",
        "        # Generate signals\n",
        "        temp_df = df.withColumn(\n",
        "            \"Signal\",\n",
        "            when(col(\"Pred_Prob\") > upper, lit(1))\n",
        "            .when(col(\"Pred_Prob\") < lower, lit(-1))\n",
        "            .otherwise(lit(0))\n",
        "        )\n",
        "\n",
        "        # Calculate returns\n",
        "        temp_df = temp_df \\\n",
        "            .withColumn(\"Market_Return\", col(\"Close\") / lag(\"Close\", 1).over(window) - 1) \\\n",
        "            .withColumn(\"Prev_Signal\", lag(\"Signal\", 1).over(window)) \\\n",
        "            .withColumn(\"Strategy_Return\", col(\"Market_Return\") * col(\"Prev_Signal\"))\n",
        "\n",
        "        # Aggregate metrics\n",
        "        agg_df = temp_df.agg(\n",
        "            avg(\"Strategy_Return\").alias(\"Mean_Return\"),\n",
        "            stddev(\"Strategy_Return\").alias(\"Volatility\")\n",
        "        )\n",
        "\n",
        "        metrics = agg_df.collect()[0]\n",
        "        mean_return = metrics[\"Mean_Return\"]\n",
        "        volatility = metrics[\"Volatility\"]\n",
        "\n",
        "        if volatility and volatility != 0:\n",
        "            sharpe = (mean_return / volatility) * (252**0.5)\n",
        "            if sharpe > best_sharpe:\n",
        "                best_sharpe = sharpe\n",
        "                best_upper = upper\n",
        "                best_lower = lower\n",
        "\n",
        "# Final output\n",
        "print(f\"Best Sharpe: {best_sharpe:.3f}\")\n",
        "print(f\"Upper Threshold: {best_upper}, Lower Threshold: {best_lower}\")"
      ],
      "metadata": {
        "colab": {
          "base_uri": "https://localhost:8080/"
        },
        "id": "6piqUpAeDakX",
        "outputId": "05d0cd18-3c56-4d61-c432-0cebfe5874b5"
      },
      "execution_count": 53,
      "outputs": [
        {
          "output_type": "stream",
          "name": "stdout",
          "text": [
            "Best Sharpe: 0.874\n",
            "Upper Threshold: 0.8800000000000003, Lower Threshold: 0.19999999999999996\n"
          ]
        }
      ]
    },
    {
      "cell_type": "markdown",
      "source": [
        "# ***Integrate LangChain***"
      ],
      "metadata": {
        "id": "ufrpgGHceLzx"
      }
    },
    {
      "cell_type": "code",
      "source": [
        "from langchain.chains.summarize import load_summarize_chain\n",
        "chain = load_summarize_chain(llm, chain_type=\"map_reduce\")\n",
        "summary = chain.run(transcript_text)"
      ],
      "metadata": {
        "id": "PEjR4qVmeKtF"
      },
      "execution_count": null,
      "outputs": []
    }
  ]
}